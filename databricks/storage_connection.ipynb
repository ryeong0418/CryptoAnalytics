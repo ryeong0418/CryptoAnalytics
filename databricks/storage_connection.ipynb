{
 "cells": [
  {
   "cell_type": "code",
   "execution_count": 0,
   "metadata": {
    "application/vnd.databricks.v1+cell": {
     "cellMetadata": {
      "byteLimit": 2048000,
      "rowLimit": 10000
     },
     "inputWidgets": {},
     "nuid": "55c0ab66-939d-4a50-90cd-3e0a54d18e0e",
     "showTitle": false,
     "tableResultSettingsMap": {},
     "title": ""
    }
   },
   "outputs": [
    {
     "output_type": "stream",
     "name": "stdout",
     "output_type": "stream",
     "text": [
      "CONNECTION OK\n"
     ]
    }
   ],
   "source": [
    "service_credential = dbutils.secrets.get(scope=\"analyticssecretscope\",key=\"analyticsecret\")\n",
    "\n",
    "spark.conf.set(\"fs.azure.account.auth.type.analyticstr.dfs.core.windows.net\", \"OAuth\")\n",
    "spark.conf.set(\"fs.azure.account.oauth.provider.type.analyticstr.dfs.core.windows.net\", \"org.apache.hadoop.fs.azurebfs.oauth2.ClientCredsTokenProvider\")\n",
    "spark.conf.set(\"fs.azure.account.oauth2.client.id.analyticstr.dfs.core.windows.net\", \"682f15f2-5550-44d1-a25b-51fec5774443\")\n",
    "spark.conf.set(\"fs.azure.account.oauth2.client.secret.analyticstr.dfs.core.windows.net\", service_credential)\n",
    "spark.conf.set(\"fs.azure.account.oauth2.client.endpoint.analyticstr.dfs.core.windows.net\", \"https://login.microsoftonline.com/785087ba-1e72-4e7d-b1d1-4a9639137a66/oauth2/token\")\n",
    "\n",
    "print(\"CONNECTION OK\")"
   ]
  },
  {
   "cell_type": "code",
   "execution_count": 0,
   "metadata": {
    "application/vnd.databricks.v1+cell": {
     "cellMetadata": {
      "byteLimit": 2048000,
      "rowLimit": 10000
     },
     "inputWidgets": {},
     "nuid": "af73a747-2909-4d12-b07d-d13add144dc3",
     "showTitle": false,
     "tableResultSettingsMap": {},
     "title": ""
    }
   },
   "outputs": [
    {
     "output_type": "stream",
     "name": "stdout",
     "output_type": "stream",
     "text": [
      "/mnt/my-mount has been unmounted.\n"
     ]
    },
    {
     "output_type": "execute_result",
     "data": {
      "text/plain": [
       "True"
      ]
     },
     "execution_count": 2,
     "metadata": {},
     "output_type": "execute_result"
    }
   ],
   "source": [
    "dbutils.fs.unmount(\"/mnt/my-mount\")"
   ]
  },
  {
   "cell_type": "code",
   "execution_count": 0,
   "metadata": {
    "application/vnd.databricks.v1+cell": {
     "cellMetadata": {
      "byteLimit": 2048000,
      "rowLimit": 10000
     },
     "inputWidgets": {},
     "nuid": "a750d8bb-c94c-4732-9785-ddda33cd3e17",
     "showTitle": false,
     "tableResultSettingsMap": {},
     "title": ""
    }
   },
   "outputs": [
    {
     "output_type": "execute_result",
     "data": {
      "text/plain": [
       "True"
      ]
     },
     "execution_count": 3,
     "metadata": {},
     "output_type": "execute_result"
    }
   ],
   "source": [
    "configs = {\"fs.azure.account.auth.type\": \"OAuth\",\n",
    "          \"fs.azure.account.oauth.provider.type\": \"org.apache.hadoop.fs.azurebfs.oauth2.ClientCredsTokenProvider\",\n",
    "          \"fs.azure.account.oauth2.client.id\": \"682f15f2-5550-44d1-a25b-51fec5774443\",\n",
    "          \"fs.azure.account.oauth2.client.secret\": dbutils.secrets.get(scope=\"analyticssecretscope\",key=\"analyticsecret\"),\n",
    "          \"fs.azure.account.oauth2.client.endpoint\": \"https://login.microsoftonline.com/785087ba-1e72-4e7d-b1d1-4a9639137a66/oauth2/token\"}\n",
    "\n",
    "# Optionally, you can add <directory-name> to the source URI of your mount point.\n",
    "dbutils.fs.mount(\n",
    "  source = \"abfss://fdscontainer@analyticstr.dfs.core.windows.net/\",\n",
    "  mount_point = \"/mnt/my-mount\",\n",
    "  extra_configs = configs)"
   ]
  },
  {
   "cell_type": "code",
   "execution_count": 0,
   "metadata": {
    "application/vnd.databricks.v1+cell": {
     "cellMetadata": {
      "byteLimit": 2048000,
      "rowLimit": 10000
     },
     "inputWidgets": {},
     "nuid": "62de705f-0ccf-4369-8f39-a020e9173c9f",
     "showTitle": false,
     "tableResultSettingsMap": {},
     "title": ""
    }
   },
   "outputs": [
    {
     "output_type": "stream",
     "name": "stdout",
     "output_type": "stream",
     "text": [
      "[FileInfo(path='dbfs:/mnt/my-mount/FDS_Dataset.JPG', name='FDS_Dataset.JPG', size=231190, modificationTime=1744691025000), FileInfo(path='dbfs:/mnt/my-mount/fds_pdf_encoded_data.csv', name='fds_pdf_encoded_data.csv', size=118232673, modificationTime=1746174281000), FileInfo(path='dbfs:/mnt/my-mount/fds_pdf_encoded_data2.csv', name='fds_pdf_encoded_data2.csv', size=118232676, modificationTime=1746174485000), FileInfo(path='dbfs:/mnt/my-mount/fraud_detection_dataset_with_full_columns.csv', name='fraud_detection_dataset_with_full_columns.csv', size=39891173, modificationTime=1745382516000), FileInfo(path='dbfs:/mnt/my-mount/synthetic_transaction_data.csv', name='synthetic_transaction_data.csv', size=116321723, modificationTime=1746086547000), FileInfo(path='dbfs:/mnt/my-mount/unsupervised_pdf.csv', name='unsupervised_pdf.csv', size=144120233, modificationTime=1746594018000)]\n"
     ]
    }
   ],
   "source": [
    "files = dbutils.fs.ls(\"/mnt/my-mount\")\n",
    "print(files)"
   ]
  }
 ],
 "metadata": {
  "application/vnd.databricks.v1+notebook": {
   "computePreferences": null,
   "dashboards": [],
   "environmentMetadata": {
    "base_environment": "",
    "environment_version": "2"
   },
   "inputWidgetPreferences": null,
   "language": "python",
   "notebookMetadata": {
    "pythonIndentUnit": 4
   },
   "notebookName": "storage_connection",
   "widgets": {}
  },
  "language_info": {
   "name": "python"
  }
 },
 "nbformat": 4,
 "nbformat_minor": 0
}