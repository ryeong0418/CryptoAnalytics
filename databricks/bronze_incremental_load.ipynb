{
 "cells": [
  {
   "cell_type": "code",
   "execution_count": 0,
   "metadata": {
    "application/vnd.databricks.v1+cell": {
     "cellMetadata": {},
     "inputWidgets": {},
     "nuid": "6c831bfe-d001-4f80-8ce8-16640c2b2076",
     "showTitle": false,
     "tableResultSettingsMap": {},
     "title": ""
    }
   },
   "outputs": [],
   "source": [
    "service_credential = dbutils.secrets.get(scope=\"analyticssecretscope\",key=\"analyticsecret\")\n",
    "\n",
    "spark.conf.set(\"fs.azure.account.auth.type.candlestickstr.dfs.core.windows.net\", \"OAuth\")\n",
    "spark.conf.set(\"fs.azure.account.oauth.provider.type.candlestickstr.dfs.core.windows.net\", \"org.apache.hadoop.fs.azurebfs.oauth2.ClientCredsTokenProvider\")\n",
    "spark.conf.set(\"fs.azure.account.oauth2.client.id.candlestickstr.dfs.core.windows.net\", \"682f15f2-5550-44d1-a25b-51fec5774443\")\n",
    "spark.conf.set(\"fs.azure.account.oauth2.client.secret.candlestickstr.dfs.core.windows.net\", service_credential)\n",
    "spark.conf.set(\"fs.azure.account.oauth2.client.endpoint.candlestickstr.dfs.core.windows.net\", \"https://login.microsoftonline.com/785087ba-1e72-4e7d-b1d1-4a9639137a66/oauth2/token\")\n",
    "\n",
    "print(\"CONNECTION OK\")"
   ]
  },
  {
   "cell_type": "code",
   "execution_count": 0,
   "metadata": {
    "application/vnd.databricks.v1+cell": {
     "cellMetadata": {},
     "inputWidgets": {},
     "nuid": "4fb912a6-283d-46db-a736-1297bde1f55f",
     "showTitle": false,
     "tableResultSettingsMap": {},
     "title": ""
    }
   },
   "outputs": [],
   "source": [
    "# 마운트 포인트 및 기대하는 소스 정의\n",
    "MOUNT_POINT = \"/mnt/my-mount\"\n",
    "EXPECTED_SOURCE = \"abfss://candlestick2024@candlestickstr.dfs.core.windows.net/\"\n",
    "\n",
    "# OAuth 인증 구성\n",
    "configs = {\n",
    "    \"fs.azure.account.auth.type\": \"OAuth\",\n",
    "    \"fs.azure.account.oauth.provider.type\": \"org.apache.hadoop.fs.azurebfs.oauth2.ClientCredsTokenProvider\",\n",
    "    \"fs.azure.account.oauth2.client.id\": \"682f15f2-5550-44d1-a25b-51fec5774443\",\n",
    "    \"fs.azure.account.oauth2.client.secret\": dbutils.secrets.get(scope=\"analyticssecretscope\", key=\"analyticsecret\"),\n",
    "    \"fs.azure.account.oauth2.client.endpoint\": \"https://login.microsoftonline.com/785087ba-1e72-4e7d-b1d1-4a9639137a66/oauth2/token\"\n",
    "}\n",
    "\n",
    "# 마운트 상태 확인 및 잘못 연결된 경우 재마운트\n",
    "is_mounted = False\n",
    "for mount in dbutils.fs.mounts():\n",
    "    if mount.mountPoint == MOUNT_POINT:\n",
    "        is_mounted = True\n",
    "        if mount.source != EXPECTED_SOURCE:\n",
    "            print(f\"⚠️ 잘못된 소스로 마운트되어 있음: {mount.source}\")\n",
    "            print(\"\uD83D\uDD04 기존 마운트 해제 중...\")\n",
    "            dbutils.fs.unmount(MOUNT_POINT)\n",
    "            is_mounted = False  # 다시 mount 필요\n",
    "        else:\n",
    "            print(f\"✅ 이미 올바른 소스로 마운트되어 있음: {mount.source}\")\n",
    "        break\n",
    "\n",
    "# 마운트가 안 되어 있거나 해제된 경우 새로 마운트\n",
    "if not is_mounted:\n",
    "    print(\"\uD83D\uDE80 마운트 시작...\")\n",
    "    dbutils.fs.mount(\n",
    "        source=EXPECTED_SOURCE,\n",
    "        mount_point=MOUNT_POINT,\n",
    "        extra_configs=configs\n",
    "    )\n",
    "    print(\"✅ 마운트 완료:\", MOUNT_POINT)\n"
   ]
  },
  {
   "cell_type": "code",
   "execution_count": 0,
   "metadata": {
    "application/vnd.databricks.v1+cell": {
     "cellMetadata": {},
     "inputWidgets": {},
     "nuid": "a24d6a5f-665f-4bd5-bf4c-2933b928b9c8",
     "showTitle": false,
     "tableResultSettingsMap": {},
     "title": ""
    }
   },
   "outputs": [],
   "source": [
    "\n",
    "# 실행 날짜 위젯\n",
    "dbutils.widgets.text(\"execution_date\", \"2024-01-04\")\n",
    "execution_date = dbutils.widgets.get(\"execution_date\")\n",
    "\n",
    "\n",
    "# bronze 계층 증분 데이터 로드\n",
    "from pyspark.sql.functions import col, to_date\n",
    "\n",
    "execution_date = \"2024-01-04\"\n",
    "\n",
    "for market in [\"KRW-BTC\", \"KRW-ETH\", \"KRW-XRP\"]:\n",
    "    table_name = f\"bronze.bronze_{market.lower().replace('-', '_')}\"\n",
    "    json_path = f\"/mnt/my-mount/{market}/{market}-{execution_date}.json\"\n",
    "\n",
    "    print(table_name)\n",
    "    print(json_path)\n",
    "\n",
    "    try:\n",
    "        # 원본 JSON 읽기\n",
    "        bronze_df = spark.read.option(\"multiline\", \"true\").json(json_path)\n",
    "        bronze_df.show(truncate=False)\n",
    "        print(\"*\" * 100)\n",
    "\n",
    "        # 날짜 존재 여부 확인\n",
    "        is_exist = (\n",
    "            spark.table(table_name)\n",
    "            .filter(to_date(col(\"candle_date_time_kst\")) == execution_date)\n",
    "            .limit(1)\n",
    "            .count()\n",
    "            > 0\n",
    "        )\n",
    "\n",
    "        if is_exist:\n",
    "            print(f\"✅ {market} - 날짜 {execution_date} 삭제 후 append\")\n",
    "\n",
    "            # 먼저 해당 날짜 삭제\n",
    "            spark.sql(\n",
    "                f\"\"\"\n",
    "                DELETE FROM {table_name}\n",
    "                WHERE to_date(candle_date_time_kst) = DATE('{execution_date}')\n",
    "                \"\"\"\n",
    "            )\n",
    "\n",
    "        else:\n",
    "            print(f\"\uD83C\uDD95 {market} - 날짜 {execution_date} append\")\n",
    "\n",
    "        # 공통: 데이터 추가\n",
    "        bronze_df.write.format(\"delta\").mode(\"append\").saveAsTable(table_name)\n",
    "\n",
    "    except Exception as e:\n",
    "        print(f\"❌ {market} 처리 실패: {e}\")\n"
   ]
  }
 ],
 "metadata": {
  "application/vnd.databricks.v1+notebook": {
   "computePreferences": null,
   "dashboards": [],
   "environmentMetadata": {
    "base_environment": "",
    "environment_version": "2"
   },
   "inputWidgetPreferences": null,
   "language": "python",
   "notebookMetadata": {
    "pythonIndentUnit": 4
   },
   "notebookName": "bronze_incremental_load",
   "widgets": {}
  },
  "language_info": {
   "name": "python"
  }
 },
 "nbformat": 4,
 "nbformat_minor": 0
}