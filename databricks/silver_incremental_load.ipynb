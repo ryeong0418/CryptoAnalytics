{
 "cells": [
  {
   "cell_type": "code",
   "execution_count": 0,
   "metadata": {
    "application/vnd.databricks.v1+cell": {
     "cellMetadata": {},
     "inputWidgets": {},
     "nuid": "7a96695c-e7c6-4ae6-ac3f-b8d38804ef08",
     "showTitle": false,
     "tableResultSettingsMap": {},
     "title": ""
    }
   },
   "outputs": [],
   "source": [
    "# Silver Incremental Load Notebook 시작\n",
    "dbutils.widgets.text(\"execution_date\", \"2024-01-04\")\n",
    "execution_date = dbutils.widgets.get(\"execution_date\")\n",
    "\n",
    "from pyspark.sql.functions import col, to_date, year, month, dayofmonth, current_timestamp\n",
    "from pyspark.sql.utils import AnalysisException\n",
    "\n",
    "# 마켓 목록\n",
    "markets = [\"KRW-BTC\", \"KRW-ETH\", \"KRW-XRP\"]\n",
    "\n",
    "for market in markets:\n",
    "    bronze_table = f\"bronze.bronze_{market.lower().replace('-', '_')}\"\n",
    "    silver_table = f\"silver.silver_{market.lower().replace('-', '_')}\"\n",
    "\n",
    "    try:\n",
    "        # Step 1. Bronze에서 해당 날짜만 필터링\n",
    "        bronze_df = spark.table(bronze_table)\n",
    "        bronze_filtered = bronze_df.filter(to_date(col(\"candle_date_time_kst\")) == execution_date)\n",
    "\n",
    "        if bronze_filtered.count() == 0:\n",
    "            print(f\"⚠️ {market} - 해당 날짜({execution_date}) 데이터 없음. Skip.\")\n",
    "            continue\n",
    "\n",
    "        # Step 2. Silver 변환\n",
    "        silver_df = bronze_filtered.withColumn(\"date\", to_date(col(\"candle_date_time_kst\"))) \\\n",
    "            .withColumn(\"volume\", col(\"candle_acc_trade_volume\")) \\\n",
    "            .withColumn(\"value\", col(\"candle_acc_trade_price\")) \\\n",
    "            .withColumn(\"year\", year(col(\"date\"))) \\\n",
    "            .withColumn(\"month\", month(col(\"date\"))) \\\n",
    "            .withColumn(\"day\", dayofmonth(col(\"date\"))) \\\n",
    "            .withColumn(\"load_timestamp\", current_timestamp()) \\\n",
    "            .select(\n",
    "                \"market\", \"date\", \"year\", \"month\", \"day\",\n",
    "                \"opening_price\", \"high_price\", \"low_price\", \"trade_price\",\n",
    "                \"prev_closing_price\", \"change_price\", \"change_rate\",\n",
    "                \"volume\", \"value\", \"load_timestamp\"\n",
    "            )\n",
    "\n",
    "        # Step 3. 기존 silver 테이블에서 해당 날짜 삭제 (있으면)\n",
    "        try:\n",
    "            is_exist = (\n",
    "                spark.table(silver_table)\n",
    "                .filter((col(\"market\") == market) & (col(\"date\") == execution_date))\n",
    "                .limit(1)\n",
    "                .count() > 0\n",
    "            )\n",
    "        except AnalysisException:\n",
    "            is_exist = False  # 테이블이 아예 없는 경우\n",
    "\n",
    "        if is_exist:\n",
    "            print(f\"\uD83E\uDDF9 {market} - {execution_date} 기존 데이터 삭제\")\n",
    "            spark.sql(\n",
    "                f\"\"\"\n",
    "                DELETE FROM {silver_table}\n",
    "                WHERE market = '{market}' AND date = DATE('{execution_date}')\n",
    "                \"\"\"\n",
    "            )\n",
    "\n",
    "        # Step 4. Append 저장\n",
    "        print(f\"\uD83D\uDCBE {market} - {execution_date} 데이터 저장 중...\")\n",
    "        silver_df.write.format(\"delta\") \\\n",
    "            .mode(\"append\") \\\n",
    "            .partitionBy(\"market\", \"year\", \"month\") \\\n",
    "            .saveAsTable(silver_table)\n",
    "\n",
    "        print(f\"✅ {market} - {execution_date} 저장 완료\")\n",
    "\n",
    "    except Exception as e:\n",
    "        print(f\"❌ {market} 처리 실패: {e}\")\n"
   ]
  }
 ],
 "metadata": {
  "application/vnd.databricks.v1+notebook": {
   "computePreferences": null,
   "dashboards": [],
   "environmentMetadata": {
    "base_environment": "",
    "environment_version": "2"
   },
   "inputWidgetPreferences": null,
   "language": "python",
   "notebookMetadata": {
    "pythonIndentUnit": 4
   },
   "notebookName": "silver_incremental_load",
   "widgets": {}
  },
  "language_info": {
   "name": "python"
  }
 },
 "nbformat": 4,
 "nbformat_minor": 0
}