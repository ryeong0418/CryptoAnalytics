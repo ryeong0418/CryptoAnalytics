{
 "cells": [
  {
   "cell_type": "markdown",
   "metadata": {
    "application/vnd.databricks.v1+cell": {
     "cellMetadata": {},
     "inputWidgets": {},
     "nuid": "5fef6f8f-7408-4aba-813b-13cedce61f9b",
     "showTitle": false,
     "tableResultSettingsMap": {},
     "title": ""
    }
   },
   "source": [
    "1. Azure Storage와 Databricks 마운트 "
   ]
  },
  {
   "cell_type": "code",
   "execution_count": 0,
   "metadata": {
    "application/vnd.databricks.v1+cell": {
     "cellMetadata": {
      "byteLimit": 2048000,
      "rowLimit": 10000
     },
     "inputWidgets": {},
     "nuid": "28895d80-655d-41c2-8d3a-6395b06bf036",
     "showTitle": false,
     "tableResultSettingsMap": {},
     "title": ""
    }
   },
   "outputs": [
    {
     "output_type": "stream",
     "name": "stdout",
     "output_type": "stream",
     "text": [
      "/mnt/my-mount has been unmounted.\n"
     ]
    },
    {
     "output_type": "execute_result",
     "data": {
      "text/plain": [
       "True"
      ]
     },
     "execution_count": 64,
     "metadata": {},
     "output_type": "execute_result"
    }
   ],
   "source": [
    "dbutils.fs.unmount(\"/mnt/my-mount\")"
   ]
  },
  {
   "cell_type": "code",
   "execution_count": 0,
   "metadata": {
    "application/vnd.databricks.v1+cell": {
     "cellMetadata": {
      "byteLimit": 2048000,
      "rowLimit": 10000
     },
     "inputWidgets": {},
     "nuid": "55c0ab66-939d-4a50-90cd-3e0a54d18e0e",
     "showTitle": false,
     "tableResultSettingsMap": {},
     "title": ""
    }
   },
   "outputs": [
    {
     "output_type": "stream",
     "name": "stdout",
     "output_type": "stream",
     "text": [
      "CONNECTION OK\n"
     ]
    }
   ],
   "source": [
    "service_credential = dbutils.secrets.get(scope=\"analyticssecretscope\",key=\"analyticsecret\")\n",
    "\n",
    "spark.conf.set(\"fs.azure.account.auth.type.candlestickstr.dfs.core.windows.net\", \"OAuth\")\n",
    "spark.conf.set(\"fs.azure.account.oauth.provider.type.candlestickstr.dfs.core.windows.net\", \"org.apache.hadoop.fs.azurebfs.oauth2.ClientCredsTokenProvider\")\n",
    "spark.conf.set(\"fs.azure.account.oauth2.client.id.candlestickstr.dfs.core.windows.net\", \"682f15f2-5550-44d1-a25b-51fec5774443\")\n",
    "spark.conf.set(\"fs.azure.account.oauth2.client.secret.candlestickstr.dfs.core.windows.net\", service_credential)\n",
    "spark.conf.set(\"fs.azure.account.oauth2.client.endpoint.candlestickstr.dfs.core.windows.net\", \"https://login.microsoftonline.com/785087ba-1e72-4e7d-b1d1-4a9639137a66/oauth2/token\")\n",
    "\n",
    "print(\"CONNECTION OK\")"
   ]
  },
  {
   "cell_type": "code",
   "execution_count": 0,
   "metadata": {
    "application/vnd.databricks.v1+cell": {
     "cellMetadata": {
      "byteLimit": 2048000,
      "rowLimit": 10000
     },
     "inputWidgets": {},
     "nuid": "a750d8bb-c94c-4732-9785-ddda33cd3e17",
     "showTitle": false,
     "tableResultSettingsMap": {},
     "title": ""
    }
   },
   "outputs": [
    {
     "output_type": "stream",
     "name": "stdout",
     "output_type": "stream",
     "text": [
      "/mnt/my-mount has been unmounted.\n"
     ]
    },
    {
     "output_type": "execute_result",
     "data": {
      "text/plain": [
       "True"
      ]
     },
     "execution_count": 85,
     "metadata": {},
     "output_type": "execute_result"
    }
   ],
   "source": [
    "configs = {\"fs.azure.account.auth.type\": \"OAuth\",\n",
    "          \"fs.azure.account.oauth.provider.type\": \"org.apache.hadoop.fs.azurebfs.oauth2.ClientCredsTokenProvider\",\n",
    "          \"fs.azure.account.oauth2.client.id\": \"682f15f2-5550-44d1-a25b-51fec5774443\",\n",
    "          \"fs.azure.account.oauth2.client.secret\": dbutils.secrets.get(scope=\"analyticssecretscope\",key=\"analyticsecret\"),\n",
    "          \"fs.azure.account.oauth2.client.endpoint\": \"https://login.microsoftonline.com/785087ba-1e72-4e7d-b1d1-4a9639137a66/oauth2/token\"}\n",
    "\n",
    "dbutils.fs.unmount('/mnt/my-mount')\n",
    "dbutils.fs.mount(\n",
    "  source = \"abfss://candlestick2024@candlestickstr.dfs.core.windows.net/\",\n",
    "  mount_point = \"/mnt/my-mount\",\n",
    "  extra_configs = configs)"
   ]
  },
  {
   "cell_type": "code",
   "execution_count": 0,
   "metadata": {
    "application/vnd.databricks.v1+cell": {
     "cellMetadata": {
      "byteLimit": 2048000,
      "rowLimit": 10000
     },
     "inputWidgets": {},
     "nuid": "62de705f-0ccf-4369-8f39-a020e9173c9f",
     "showTitle": false,
     "tableResultSettingsMap": {},
     "title": ""
    }
   },
   "outputs": [
    {
     "output_type": "stream",
     "name": "stdout",
     "output_type": "stream",
     "text": [
      "[FileInfo(path='dbfs:/mnt/my-mount/KRW-BTC/', name='KRW-BTC/', size=0, modificationTime=1750155851000), FileInfo(path='dbfs:/mnt/my-mount/KRW-ETH/', name='KRW-ETH/', size=0, modificationTime=1750155851000), FileInfo(path='dbfs:/mnt/my-mount/KRW-XRP/', name='KRW-XRP/', size=0, modificationTime=1750155851000)]\n"
     ]
    }
   ],
   "source": [
    "files = dbutils.fs.ls(\"/mnt/my-mount\")\n",
    "print(files)"
   ]
  },
  {
   "cell_type": "markdown",
   "metadata": {
    "application/vnd.databricks.v1+cell": {
     "cellMetadata": {},
     "inputWidgets": {},
     "nuid": "17df1f9a-472c-4079-8c24-ef776af191d8",
     "showTitle": false,
     "tableResultSettingsMap": {},
     "title": ""
    }
   },
   "source": [
    "2. bronze, silver, gold 스키마 생성"
   ]
  },
  {
   "cell_type": "code",
   "execution_count": 0,
   "metadata": {
    "application/vnd.databricks.v1+cell": {
     "cellMetadata": {
      "byteLimit": 2048000,
      "implicitDf": true,
      "rowLimit": 10000
     },
     "inputWidgets": {},
     "nuid": "a0d3e092-7cbc-4f55-a3b2-105d0b603752",
     "showTitle": false,
     "tableResultSettingsMap": {},
     "title": ""
    }
   },
   "outputs": [],
   "source": [
    "%sql\n",
    "CREATE SCHEMA IF NOT EXISTS bronze;\n",
    "CREATE SCHEMA IF NOT EXISTS silver;\n",
    "CREATE SCHEMA IF NOT EXISTS gold;"
   ]
  },
  {
   "cell_type": "markdown",
   "metadata": {
    "application/vnd.databricks.v1+cell": {
     "cellMetadata": {},
     "inputWidgets": {},
     "nuid": "71fc98ed-5977-4b3d-9e01-8923bd576c62",
     "showTitle": false,
     "tableResultSettingsMap": {},
     "title": ""
    }
   },
   "source": [
    "3. market별로 bronze table 생성"
   ]
  },
  {
   "cell_type": "code",
   "execution_count": 0,
   "metadata": {
    "application/vnd.databricks.v1+cell": {
     "cellMetadata": {
      "byteLimit": 2048000,
      "rowLimit": 10000
     },
     "inputWidgets": {},
     "nuid": "4bef3325-16d3-43b4-a69d-aa8603ccc86b",
     "showTitle": false,
     "tableResultSettingsMap": {},
     "title": ""
    }
   },
   "outputs": [],
   "source": [
    "btc_df = spark.read.option(\"multiline\", \"true\").json(\"/mnt/my-mount/KRW-BTC/*.json\")\n",
    "\n",
    "btc_df.write.format(\"delta\") \\\n",
    "    .mode(\"overwrite\") \\\n",
    "    .saveAsTable(\"bronze.bronze_krw_btc\")"
   ]
  },
  {
   "cell_type": "code",
   "execution_count": 0,
   "metadata": {
    "application/vnd.databricks.v1+cell": {
     "cellMetadata": {
      "byteLimit": 2048000,
      "rowLimit": 10000
     },
     "inputWidgets": {},
     "nuid": "818d85df-ad90-4db8-a792-7477210181ea",
     "showTitle": false,
     "tableResultSettingsMap": {},
     "title": ""
    }
   },
   "outputs": [],
   "source": [
    "eth_df = spark.read.option(\"multiline\", \"true\").json(\"/mnt/my-mount/KRW-ETH/*.json\")\n",
    "\n",
    "eth_df.write.format(\"delta\") \\\n",
    "    .mode(\"overwrite\") \\\n",
    "    .saveAsTable(\"bronze.bronze_krw_eth\")"
   ]
  },
  {
   "cell_type": "code",
   "execution_count": 0,
   "metadata": {
    "application/vnd.databricks.v1+cell": {
     "cellMetadata": {
      "byteLimit": 2048000,
      "rowLimit": 10000
     },
     "inputWidgets": {},
     "nuid": "1a6fbef8-f23e-49df-ab4c-cce3c4c326d6",
     "showTitle": false,
     "tableResultSettingsMap": {},
     "title": ""
    }
   },
   "outputs": [],
   "source": [
    "xrp_df = spark.read.option(\"multiline\", \"true\").json(\"/mnt/my-mount/KRW-XRP/*.json\")\n",
    "\n",
    "xrp_df.write.format(\"delta\") \\\n",
    "    .mode(\"overwrite\") \\\n",
    "    .saveAsTable(\"bronze.bronze_krw_xrp\")"
   ]
  },
  {
   "cell_type": "code",
   "execution_count": 0,
   "metadata": {
    "application/vnd.databricks.v1+cell": {
     "cellMetadata": {
      "byteLimit": 2048000,
      "rowLimit": 10000
     },
     "inputWidgets": {},
     "nuid": "e690fabb-6cde-4308-9bed-4322fefe800b",
     "showTitle": false,
     "tableResultSettingsMap": {},
     "title": ""
    }
   },
   "outputs": [],
   "source": [
    "# 방법 1: DELETE SQL 사용\n",
    "spark.sql(\"DELETE FROM silver.silver_krw_xrp\")\n",
    "\n",
    "# 또는 방법 2: DataFrame API 사용 (필터 없이 전부 삭제)\n",
    "from delta.tables import DeltaTable\n",
    "\n",
    "delta_table = DeltaTable.forName(spark, \"silver.silver_krw_xrp\")\n",
    "delta_table.delete()  # 조건 없으면 전체 삭제\n"
   ]
  },
  {
   "cell_type": "code",
   "execution_count": 0,
   "metadata": {
    "application/vnd.databricks.v1+cell": {
     "cellMetadata": {
      "byteLimit": 2048000,
      "implicitDf": true,
      "rowLimit": 10000
     },
     "inputWidgets": {},
     "nuid": "7929e312-dd5f-4d4e-837e-398d233e9091",
     "showTitle": false,
     "tableResultSettingsMap": {},
     "title": ""
    }
   },
   "outputs": [],
   "source": [
    "%sql\n",
    "\n",
    "select * from bronze.bronze_krw_xrp;"
   ]
  },
  {
   "cell_type": "markdown",
   "metadata": {
    "application/vnd.databricks.v1+cell": {
     "cellMetadata": {},
     "inputWidgets": {},
     "nuid": "ad5926db-5cfa-4735-bae1-244f7f4ac186",
     "showTitle": false,
     "tableResultSettingsMap": {},
     "title": ""
    }
   },
   "source": [
    "4. market별로 silver table 생성"
   ]
  },
  {
   "cell_type": "code",
   "execution_count": 0,
   "metadata": {
    "application/vnd.databricks.v1+cell": {
     "cellMetadata": {
      "byteLimit": 2048000,
      "rowLimit": 10000
     },
     "inputWidgets": {},
     "nuid": "8d2a4148-9a66-4ed7-80e0-bca03c054eb5",
     "showTitle": false,
     "tableResultSettingsMap": {},
     "title": ""
    }
   },
   "outputs": [],
   "source": [
    "from pyspark.sql.functions import col, to_date, year, month, dayofmonth, current_timestamp\n",
    "\n",
    "bronze_df = spark.table(\"bronze.bronze_krw_btc\")\n",
    "\n",
    "silver_df = bronze_df.withColumn(\"date\", to_date(col(\"candle_date_time_kst\"))) \\\n",
    "    .withColumn(\"volume\", col(\"candle_acc_trade_volume\")) \\\n",
    "    .withColumn(\"value\", col(\"candle_acc_trade_price\")) \\\n",
    "    .withColumn(\"year\", year(to_date(col(\"candle_date_time_kst\")))) \\\n",
    "    .withColumn(\"month\", month(to_date(col(\"candle_date_time_kst\")))) \\\n",
    "    .withColumn(\"day\", dayofmonth(to_date(col(\"candle_date_time_kst\")))) \\\n",
    "    .withColumn(\"load_timestamp\", current_timestamp()) \\\n",
    "    .select(\n",
    "        \"market\", \"date\", \"year\", \"month\", \"day\",\n",
    "        \"opening_price\", \"high_price\", \"low_price\", \"trade_price\",\n",
    "        \"prev_closing_price\", \"change_price\", \"change_rate\",\n",
    "        \"volume\", \"value\", \"load_timestamp\"\n",
    "    )\n",
    "\n",
    "silver_df.write.format(\"delta\") \\\n",
    "    .mode(\"overwrite\") \\\n",
    "    .partitionBy(\"market\", \"year\", \"month\") \\\n",
    "    .saveAsTable(\"silver.silver_krw_btc\")\n"
   ]
  },
  {
   "cell_type": "code",
   "execution_count": 0,
   "metadata": {
    "application/vnd.databricks.v1+cell": {
     "cellMetadata": {
      "byteLimit": 2048000,
      "implicitDf": true,
      "rowLimit": 10000
     },
     "inputWidgets": {},
     "nuid": "0cad8411-9da6-410a-bdd0-ad5b5e8fec37",
     "showTitle": false,
     "tableResultSettingsMap": {},
     "title": ""
    }
   },
   "outputs": [
    {
     "output_type": "display_data",
     "data": {
      "text/html": [
       "<style scoped>\n",
       "  .table-result-container {\n",
       "    max-height: 300px;\n",
       "    overflow: auto;\n",
       "  }\n",
       "  table, th, td {\n",
       "    border: 1px solid black;\n",
       "    border-collapse: collapse;\n",
       "  }\n",
       "  th, td {\n",
       "    padding: 5px;\n",
       "  }\n",
       "  th {\n",
       "    text-align: left;\n",
       "  }\n",
       "</style><div class='table-result-container'><table class='table-result'><thead style='background-color: white'><tr><th>market</th><th>date</th><th>year</th><th>month</th><th>day</th><th>opening_price</th><th>high_price</th><th>low_price</th><th>trade_price</th><th>prev_closing_price</th><th>change_price</th><th>change_rate</th><th>volume</th><th>value</th><th>load_timestamp</th></tr></thead><tbody><tr><td>KRW-BTC</td><td>2024-01-01</td><td>2024</td><td>1</td><td>1</td><td>5.7045E7</td><td>5.8847E7</td><td>5.7045E7</td><td>5.8839E7</td><td>5.7047E7</td><td>1792000.0</td><td>0.0314126948</td><td>3165.32092908</td><td>1.8249121791430185E11</td><td>2025-06-17T10:30:25.353Z</td></tr><tr><td>KRW-BTC</td><td>2024-01-02</td><td>2024</td><td>1</td><td>2</td><td>5.8839E7</td><td>6.0997E7</td><td>5.8814E7</td><td>6.0206E7</td><td>5.8839E7</td><td>1367000.0</td><td>0.0232328897</td><td>8221.19868374</td><td>4.950387804637768E11</td><td>2025-06-17T10:30:25.353Z</td></tr><tr><td>KRW-BTC</td><td>2023-12-31</td><td>2023</td><td>12</td><td>31</td><td>5.6639E7</td><td>5.7437E7</td><td>5.6452E7</td><td>5.7047E7</td><td>5.6639E7</td><td>408000.0</td><td>0.007203517</td><td>2308.38316024</td><td>1.3151948029509232E11</td><td>2025-06-17T10:30:25.353Z</td></tr><tr><td>KRW-BTC</td><td>2024-01-03</td><td>2024</td><td>1</td><td>3</td><td>6.0205E7</td><td>6.0799E7</td><td>5.4346E7</td><td>5.8581E7</td><td>6.0206E7</td><td>-1625000.0</td><td>-0.0269906654</td><td>16310.30692586</td><td>9.458411835352499E11</td><td>2025-06-17T10:30:25.353Z</td></tr></tbody></table></div>"
      ]
     },
     "metadata": {
      "application/vnd.databricks.v1+output": {
       "addedWidgets": {},
       "aggData": [],
       "aggError": "",
       "aggOverflow": false,
       "aggSchema": [],
       "aggSeriesLimitReached": false,
       "aggType": "",
       "arguments": {},
       "columnCustomDisplayInfos": {},
       "data": [
        [
         "KRW-BTC",
         "2024-01-01",
         2024,
         1,
         1,
         5.7045E7,
         5.8847E7,
         5.7045E7,
         5.8839E7,
         5.7047E7,
         1792000.0,
         0.0314126948,
         3165.32092908,
         1.8249121791430185E11,
         "2025-06-17T10:30:25.353Z"
        ],
        [
         "KRW-BTC",
         "2024-01-02",
         2024,
         1,
         2,
         5.8839E7,
         6.0997E7,
         5.8814E7,
         6.0206E7,
         5.8839E7,
         1367000.0,
         0.0232328897,
         8221.19868374,
         4.950387804637768E11,
         "2025-06-17T10:30:25.353Z"
        ],
        [
         "KRW-BTC",
         "2023-12-31",
         2023,
         12,
         31,
         5.6639E7,
         5.7437E7,
         5.6452E7,
         5.7047E7,
         5.6639E7,
         408000.0,
         0.007203517,
         2308.38316024,
         1.3151948029509232E11,
         "2025-06-17T10:30:25.353Z"
        ],
        [
         "KRW-BTC",
         "2024-01-03",
         2024,
         1,
         3,
         6.0205E7,
         6.0799E7,
         5.4346E7,
         5.8581E7,
         6.0206E7,
         -1625000.0,
         -0.0269906654,
         16310.30692586,
         9.458411835352499E11,
         "2025-06-17T10:30:25.353Z"
        ]
       ],
       "datasetInfos": [],
       "dbfsResultPath": null,
       "isJsonSchema": true,
       "metadata": {
        "createTempViewForImplicitDf": true,
        "dataframeName": "_sqldf",
        "executionCount": 99
       },
       "overflow": false,
       "plotOptions": {
        "customPlotOptions": {},
        "displayType": "table",
        "pivotAggregation": null,
        "pivotColumns": null,
        "xColumns": null,
        "yColumns": null
       },
       "removedWidgets": [],
       "schema": [
        {
         "metadata": "{}",
         "name": "market",
         "type": "\"string\""
        },
        {
         "metadata": "{}",
         "name": "date",
         "type": "\"date\""
        },
        {
         "metadata": "{}",
         "name": "year",
         "type": "\"integer\""
        },
        {
         "metadata": "{}",
         "name": "month",
         "type": "\"integer\""
        },
        {
         "metadata": "{}",
         "name": "day",
         "type": "\"integer\""
        },
        {
         "metadata": "{}",
         "name": "opening_price",
         "type": "\"double\""
        },
        {
         "metadata": "{}",
         "name": "high_price",
         "type": "\"double\""
        },
        {
         "metadata": "{}",
         "name": "low_price",
         "type": "\"double\""
        },
        {
         "metadata": "{}",
         "name": "trade_price",
         "type": "\"double\""
        },
        {
         "metadata": "{}",
         "name": "prev_closing_price",
         "type": "\"double\""
        },
        {
         "metadata": "{}",
         "name": "change_price",
         "type": "\"double\""
        },
        {
         "metadata": "{}",
         "name": "change_rate",
         "type": "\"double\""
        },
        {
         "metadata": "{}",
         "name": "volume",
         "type": "\"double\""
        },
        {
         "metadata": "{}",
         "name": "value",
         "type": "\"double\""
        },
        {
         "metadata": "{}",
         "name": "load_timestamp",
         "type": "\"timestamp\""
        }
       ],
       "type": "table"
      }
     },
     "output_type": "display_data"
    }
   ],
   "source": [
    "%sql\n",
    "select * from silver.silver_krw_btc;"
   ]
  },
  {
   "cell_type": "code",
   "execution_count": 0,
   "metadata": {
    "application/vnd.databricks.v1+cell": {
     "cellMetadata": {
      "byteLimit": 2048000,
      "rowLimit": 10000
     },
     "inputWidgets": {},
     "nuid": "4703f0d1-ccd0-48d6-96c2-fdfa0615aeed",
     "showTitle": false,
     "tableResultSettingsMap": {},
     "title": ""
    }
   },
   "outputs": [],
   "source": [
    "bronze_df = spark.table(\"bronze.bronze_krw_eth\")\n",
    "\n",
    "silver_df = bronze_df.withColumn(\"date\", to_date(col(\"candle_date_time_kst\"))) \\\n",
    "    .withColumn(\"volume\", col(\"candle_acc_trade_volume\")) \\\n",
    "    .withColumn(\"value\", col(\"candle_acc_trade_price\")) \\\n",
    "    .withColumn(\"year\", year(to_date(col(\"candle_date_time_kst\")))) \\\n",
    "    .withColumn(\"month\", month(to_date(col(\"candle_date_time_kst\")))) \\\n",
    "    .withColumn(\"day\", dayofmonth(to_date(col(\"candle_date_time_kst\")))) \\\n",
    "    .withColumn(\"load_timestamp\", current_timestamp()) \\\n",
    "    .select(\n",
    "        \"market\", \"date\", \"year\", \"month\", \"day\",\n",
    "        \"opening_price\", \"high_price\", \"low_price\", \"trade_price\",\n",
    "        \"prev_closing_price\", \"change_price\", \"change_rate\",\n",
    "        \"volume\", \"value\", \"load_timestamp\"\n",
    "    )\n",
    "\n",
    "silver_df.write.format(\"delta\") \\\n",
    "    .mode(\"overwrite\") \\\n",
    "    .partitionBy(\"market\", \"year\", \"month\") \\\n",
    "    .saveAsTable(\"silver.silver_krw_eth\")"
   ]
  },
  {
   "cell_type": "code",
   "execution_count": 0,
   "metadata": {
    "application/vnd.databricks.v1+cell": {
     "cellMetadata": {
      "byteLimit": 2048000,
      "implicitDf": true,
      "rowLimit": 10000
     },
     "inputWidgets": {},
     "nuid": "b85d3db4-b47d-4d2b-a542-6be6254672c6",
     "showTitle": false,
     "tableResultSettingsMap": {},
     "title": ""
    }
   },
   "outputs": [
    {
     "output_type": "display_data",
     "data": {
      "text/html": [
       "<style scoped>\n",
       "  .table-result-container {\n",
       "    max-height: 300px;\n",
       "    overflow: auto;\n",
       "  }\n",
       "  table, th, td {\n",
       "    border: 1px solid black;\n",
       "    border-collapse: collapse;\n",
       "  }\n",
       "  th, td {\n",
       "    padding: 5px;\n",
       "  }\n",
       "  th {\n",
       "    text-align: left;\n",
       "  }\n",
       "</style><div class='table-result-container'><table class='table-result'><thead style='background-color: white'><tr><th>market</th><th>date</th><th>year</th><th>month</th><th>day</th><th>opening_price</th><th>high_price</th><th>low_price</th><th>trade_price</th><th>prev_closing_price</th><th>change_price</th><th>change_rate</th><th>volume</th><th>value</th><th>load_timestamp</th></tr></thead><tbody><tr><td>KRW-ETH</td><td>2024-01-03</td><td>2024</td><td>1</td><td>3</td><td>3154000.0</td><td>3190000.0</td><td>2851000.0</td><td>3024000.0</td><td>3154000.0</td><td>-130000.0</td><td>-0.0412175016</td><td>57149.37569621</td><td>1.7353056946093912E11</td><td>2025-06-17T10:30:36.061Z</td></tr><tr><td>KRW-ETH</td><td>2024-01-02</td><td>2024</td><td>1</td><td>2</td><td>3134000.0</td><td>3230000.0</td><td>3128000.0</td><td>3154000.0</td><td>3136000.0</td><td>18000.0</td><td>0.0057397959</td><td>29124.21085963</td><td>9.257473077870413E10</td><td>2025-06-17T10:30:36.061Z</td></tr><tr><td>KRW-ETH</td><td>2024-01-01</td><td>2024</td><td>1</td><td>1</td><td>3082000.0</td><td>3140000.0</td><td>3070000.0</td><td>3136000.0</td><td>3082000.0</td><td>54000.0</td><td>0.0175210902</td><td>11918.79208026</td><td>3.692391045709838E10</td><td>2025-06-17T10:30:36.061Z</td></tr><tr><td>KRW-ETH</td><td>2023-12-31</td><td>2023</td><td>12</td><td>31</td><td>3081000.0</td><td>3109000.0</td><td>3060000.0</td><td>3082000.0</td><td>3081000.0</td><td>1000.0</td><td>3.245699E-4</td><td>12170.32394322</td><td>3.749705506356301E10</td><td>2025-06-17T10:30:36.061Z</td></tr></tbody></table></div>"
      ]
     },
     "metadata": {
      "application/vnd.databricks.v1+output": {
       "addedWidgets": {},
       "aggData": [],
       "aggError": "",
       "aggOverflow": false,
       "aggSchema": [],
       "aggSeriesLimitReached": false,
       "aggType": "",
       "arguments": {},
       "columnCustomDisplayInfos": {},
       "data": [
        [
         "KRW-ETH",
         "2024-01-03",
         2024,
         1,
         3,
         3154000.0,
         3190000.0,
         2851000.0,
         3024000.0,
         3154000.0,
         -130000.0,
         -0.0412175016,
         57149.37569621,
         1.7353056946093912E11,
         "2025-06-17T10:30:36.061Z"
        ],
        [
         "KRW-ETH",
         "2024-01-02",
         2024,
         1,
         2,
         3134000.0,
         3230000.0,
         3128000.0,
         3154000.0,
         3136000.0,
         18000.0,
         0.0057397959,
         29124.21085963,
         9.257473077870413E10,
         "2025-06-17T10:30:36.061Z"
        ],
        [
         "KRW-ETH",
         "2024-01-01",
         2024,
         1,
         1,
         3082000.0,
         3140000.0,
         3070000.0,
         3136000.0,
         3082000.0,
         54000.0,
         0.0175210902,
         11918.79208026,
         3.692391045709838E10,
         "2025-06-17T10:30:36.061Z"
        ],
        [
         "KRW-ETH",
         "2023-12-31",
         2023,
         12,
         31,
         3081000.0,
         3109000.0,
         3060000.0,
         3082000.0,
         3081000.0,
         1000.0,
         3.245699E-4,
         12170.32394322,
         3.749705506356301E10,
         "2025-06-17T10:30:36.061Z"
        ]
       ],
       "datasetInfos": [],
       "dbfsResultPath": null,
       "isJsonSchema": true,
       "metadata": {
        "createTempViewForImplicitDf": true,
        "dataframeName": "_sqldf",
        "executionCount": 101
       },
       "overflow": false,
       "plotOptions": {
        "customPlotOptions": {},
        "displayType": "table",
        "pivotAggregation": null,
        "pivotColumns": null,
        "xColumns": null,
        "yColumns": null
       },
       "removedWidgets": [],
       "schema": [
        {
         "metadata": "{}",
         "name": "market",
         "type": "\"string\""
        },
        {
         "metadata": "{}",
         "name": "date",
         "type": "\"date\""
        },
        {
         "metadata": "{}",
         "name": "year",
         "type": "\"integer\""
        },
        {
         "metadata": "{}",
         "name": "month",
         "type": "\"integer\""
        },
        {
         "metadata": "{}",
         "name": "day",
         "type": "\"integer\""
        },
        {
         "metadata": "{}",
         "name": "opening_price",
         "type": "\"double\""
        },
        {
         "metadata": "{}",
         "name": "high_price",
         "type": "\"double\""
        },
        {
         "metadata": "{}",
         "name": "low_price",
         "type": "\"double\""
        },
        {
         "metadata": "{}",
         "name": "trade_price",
         "type": "\"double\""
        },
        {
         "metadata": "{}",
         "name": "prev_closing_price",
         "type": "\"double\""
        },
        {
         "metadata": "{}",
         "name": "change_price",
         "type": "\"double\""
        },
        {
         "metadata": "{}",
         "name": "change_rate",
         "type": "\"double\""
        },
        {
         "metadata": "{}",
         "name": "volume",
         "type": "\"double\""
        },
        {
         "metadata": "{}",
         "name": "value",
         "type": "\"double\""
        },
        {
         "metadata": "{}",
         "name": "load_timestamp",
         "type": "\"timestamp\""
        }
       ],
       "type": "table"
      }
     },
     "output_type": "display_data"
    }
   ],
   "source": [
    "%sql\n",
    "select * from silver.silver_krw_eth;"
   ]
  },
  {
   "cell_type": "code",
   "execution_count": 0,
   "metadata": {
    "application/vnd.databricks.v1+cell": {
     "cellMetadata": {
      "byteLimit": 2048000,
      "rowLimit": 10000
     },
     "inputWidgets": {},
     "nuid": "9ca3d6ff-f3b6-458e-8724-0a1438087676",
     "showTitle": false,
     "tableResultSettingsMap": {},
     "title": ""
    }
   },
   "outputs": [],
   "source": [
    "bronze_df = spark.table(\"bronze.bronze_krw_xrp\")\n",
    "\n",
    "silver_df = bronze_df.withColumn(\"date\", to_date(col(\"candle_date_time_kst\"))) \\\n",
    "    .withColumn(\"volume\", col(\"candle_acc_trade_volume\")) \\\n",
    "    .withColumn(\"value\", col(\"candle_acc_trade_price\")) \\\n",
    "    .withColumn(\"year\", year(to_date(col(\"candle_date_time_kst\")))) \\\n",
    "    .withColumn(\"month\", month(to_date(col(\"candle_date_time_kst\")))) \\\n",
    "    .withColumn(\"day\", dayofmonth(to_date(col(\"candle_date_time_kst\")))) \\\n",
    "    .withColumn(\"load_timestamp\", current_timestamp()) \\\n",
    "    .select(\n",
    "        \"market\", \"date\", \"year\", \"month\", \"day\",\n",
    "        \"opening_price\", \"high_price\", \"low_price\", \"trade_price\",\n",
    "        \"prev_closing_price\", \"change_price\", \"change_rate\",\n",
    "        \"volume\", \"value\", \"load_timestamp\"\n",
    "    )\n",
    "\n",
    "silver_df.write.format(\"delta\") \\\n",
    "    .mode(\"overwrite\") \\\n",
    "    .partitionBy(\"market\", \"year\", \"month\") \\\n",
    "    .saveAsTable(\"silver.silver_krw_xrp\")"
   ]
  },
  {
   "cell_type": "code",
   "execution_count": 0,
   "metadata": {
    "application/vnd.databricks.v1+cell": {
     "cellMetadata": {
      "byteLimit": 2048000,
      "implicitDf": true,
      "rowLimit": 10000
     },
     "inputWidgets": {},
     "nuid": "487804fa-f18a-49e0-abbc-85c1fb9f8479",
     "showTitle": false,
     "tableResultSettingsMap": {},
     "title": ""
    }
   },
   "outputs": [
    {
     "output_type": "display_data",
     "data": {
      "text/html": [
       "<style scoped>\n",
       "  .table-result-container {\n",
       "    max-height: 300px;\n",
       "    overflow: auto;\n",
       "  }\n",
       "  table, th, td {\n",
       "    border: 1px solid black;\n",
       "    border-collapse: collapse;\n",
       "  }\n",
       "  th, td {\n",
       "    padding: 5px;\n",
       "  }\n",
       "  th {\n",
       "    text-align: left;\n",
       "  }\n",
       "</style><div class='table-result-container'><table class='table-result'><thead style='background-color: white'><tr><th>market</th><th>date</th><th>year</th><th>month</th><th>day</th><th>opening_price</th><th>high_price</th><th>low_price</th><th>trade_price</th><th>prev_closing_price</th><th>change_price</th><th>change_rate</th><th>volume</th><th>value</th><th>load_timestamp</th></tr></thead><tbody><tr><td>KRW-XRP</td><td>2023-12-31</td><td>2023</td><td>12</td><td>31</td><td>835.0</td><td>841.0</td><td>826.0</td><td>832.0</td><td>835.0</td><td>-3.0</td><td>-0.0035928144</td><td>9.974615407295449E7</td><td>8.319998079470201E10</td><td>2025-06-17T10:31:03.667Z</td></tr><tr><td>KRW-XRP</td><td>2024-01-03</td><td>2024</td><td>1</td><td>3</td><td>838.0</td><td>854.0</td><td>700.0</td><td>796.0</td><td>838.0</td><td>-42.0</td><td>-0.0501193317</td><td>6.923410352517552E8</td><td>5.477959487993515E11</td><td>2025-06-17T10:31:03.667Z</td></tr><tr><td>KRW-XRP</td><td>2024-01-02</td><td>2024</td><td>1</td><td>2</td><td>839.0</td><td>852.0</td><td>834.0</td><td>838.0</td><td>838.0</td><td>null</td><td>0.0</td><td>2.0223266420174858E8</td><td>1.70155409776905E11</td><td>2025-06-17T10:31:03.667Z</td></tr><tr><td>KRW-XRP</td><td>2024-01-01</td><td>2024</td><td>1</td><td>1</td><td>832.0</td><td>840.0</td><td>825.0</td><td>838.0</td><td>832.0</td><td>6.0</td><td>0.0072115385</td><td>1.0977846983264299E8</td><td>9.129790255762538E10</td><td>2025-06-17T10:31:03.667Z</td></tr></tbody></table></div>"
      ]
     },
     "metadata": {
      "application/vnd.databricks.v1+output": {
       "addedWidgets": {},
       "aggData": [],
       "aggError": "",
       "aggOverflow": false,
       "aggSchema": [],
       "aggSeriesLimitReached": false,
       "aggType": "",
       "arguments": {},
       "columnCustomDisplayInfos": {},
       "data": [
        [
         "KRW-XRP",
         "2023-12-31",
         2023,
         12,
         31,
         835.0,
         841.0,
         826.0,
         832.0,
         835.0,
         -3.0,
         -0.0035928144,
         9.974615407295449E7,
         8.319998079470201E10,
         "2025-06-17T10:31:03.667Z"
        ],
        [
         "KRW-XRP",
         "2024-01-03",
         2024,
         1,
         3,
         838.0,
         854.0,
         700.0,
         796.0,
         838.0,
         -42.0,
         -0.0501193317,
         6.923410352517552E8,
         5.477959487993515E11,
         "2025-06-17T10:31:03.667Z"
        ],
        [
         "KRW-XRP",
         "2024-01-02",
         2024,
         1,
         2,
         839.0,
         852.0,
         834.0,
         838.0,
         838.0,
         null,
         0.0,
         2.0223266420174858E8,
         1.70155409776905E11,
         "2025-06-17T10:31:03.667Z"
        ],
        [
         "KRW-XRP",
         "2024-01-01",
         2024,
         1,
         1,
         832.0,
         840.0,
         825.0,
         838.0,
         832.0,
         6.0,
         0.0072115385,
         1.0977846983264299E8,
         9.129790255762538E10,
         "2025-06-17T10:31:03.667Z"
        ]
       ],
       "datasetInfos": [],
       "dbfsResultPath": null,
       "isJsonSchema": true,
       "metadata": {
        "createTempViewForImplicitDf": true,
        "dataframeName": "_sqldf",
        "executionCount": 103
       },
       "overflow": false,
       "plotOptions": {
        "customPlotOptions": {},
        "displayType": "table",
        "pivotAggregation": null,
        "pivotColumns": null,
        "xColumns": null,
        "yColumns": null
       },
       "removedWidgets": [],
       "schema": [
        {
         "metadata": "{}",
         "name": "market",
         "type": "\"string\""
        },
        {
         "metadata": "{}",
         "name": "date",
         "type": "\"date\""
        },
        {
         "metadata": "{}",
         "name": "year",
         "type": "\"integer\""
        },
        {
         "metadata": "{}",
         "name": "month",
         "type": "\"integer\""
        },
        {
         "metadata": "{}",
         "name": "day",
         "type": "\"integer\""
        },
        {
         "metadata": "{}",
         "name": "opening_price",
         "type": "\"double\""
        },
        {
         "metadata": "{}",
         "name": "high_price",
         "type": "\"double\""
        },
        {
         "metadata": "{}",
         "name": "low_price",
         "type": "\"double\""
        },
        {
         "metadata": "{}",
         "name": "trade_price",
         "type": "\"double\""
        },
        {
         "metadata": "{}",
         "name": "prev_closing_price",
         "type": "\"double\""
        },
        {
         "metadata": "{}",
         "name": "change_price",
         "type": "\"double\""
        },
        {
         "metadata": "{}",
         "name": "change_rate",
         "type": "\"double\""
        },
        {
         "metadata": "{}",
         "name": "volume",
         "type": "\"double\""
        },
        {
         "metadata": "{}",
         "name": "value",
         "type": "\"double\""
        },
        {
         "metadata": "{}",
         "name": "load_timestamp",
         "type": "\"timestamp\""
        }
       ],
       "type": "table"
      }
     },
     "output_type": "display_data"
    }
   ],
   "source": [
    "%sql\n",
    "select * from silver.silver_krw_xrp;"
   ]
  },
  {
   "cell_type": "markdown",
   "metadata": {
    "application/vnd.databricks.v1+cell": {
     "cellMetadata": {},
     "inputWidgets": {},
     "nuid": "049b7a41-2ef6-4603-ab9e-95667be2f7e0",
     "showTitle": false,
     "tableResultSettingsMap": {},
     "title": ""
    }
   },
   "source": [
    "5. Bronze 테이블 증분 데이터 코드 "
   ]
  },
  {
   "cell_type": "code",
   "execution_count": 0,
   "metadata": {
    "application/vnd.databricks.v1+cell": {
     "cellMetadata": {
      "byteLimit": 2048000,
      "rowLimit": 10000
     },
     "inputWidgets": {},
     "nuid": "c63174a6-d6df-40df-913d-5b2c94eed5a2",
     "showTitle": false,
     "tableResultSettingsMap": {},
     "title": ""
    }
   },
   "outputs": [
    {
     "output_type": "stream",
     "name": "stdout",
     "output_type": "stream",
     "text": [
      "bronze.bronze_krw_btc\n/mnt/my-mount/KRW-BTC/KRW-BTC-2024-01-04.json\n+----------------------+-----------------------+--------------------+--------------------+------------+------------+----------+---------+-------+-------------+------------------+-------------+-----------+\n|candle_acc_trade_price|candle_acc_trade_volume|candle_date_time_kst|candle_date_time_utc|change_price|change_rate |high_price|low_price|market |opening_price|prev_closing_price|timestamp    |trade_price|\n+----------------------+-----------------------+--------------------+--------------------+------------+------------+----------+---------+-------+-------------+------------------+-------------+-----------+\n|3.660256480668456E11  |6254.53768656          |2024-01-04T09:00:00 |2024-01-04T00:00:00 |896000.0    |0.0152950615|6.0162E7  |5.7319E7 |KRW-BTC|5.8581E7     |5.8581E7          |1704412798132|5.9477E7   |\n+----------------------+-----------------------+--------------------+--------------------+------------+------------+----------+---------+-------+-------------+------------------+-------------+-----------+\n\n****************************************************************************************************\n✅ KRW-BTC - 날짜 2024-01-04 삭제 후 append\nbronze.bronze_krw_eth\n/mnt/my-mount/KRW-ETH/KRW-ETH-2024-01-04.json\n+----------------------+-----------------------+--------------------+--------------------+------------+------------+----------+---------+-------+-------------+------------------+-------------+-----------+\n|candle_acc_trade_price|candle_acc_trade_volume|candle_date_time_kst|candle_date_time_utc|change_price|change_rate |high_price|low_price|market |opening_price|prev_closing_price|timestamp    |trade_price|\n+----------------------+-----------------------+--------------------+--------------------+------------+------------+----------+---------+-------+-------------+------------------+-------------+-----------+\n|7.359371713683714E10  |24389.84136858         |2024-01-04T09:00:00 |2024-01-04T00:00:00 |29000.0     |0.0095899471|3078000.0 |2967000.0|KRW-ETH|3024000.0    |3024000.0         |1704412797583|3053000.0  |\n+----------------------+-----------------------+--------------------+--------------------+------------+------------+----------+---------+-------+-------------+------------------+-------------+-----------+\n\n****************************************************************************************************\n✅ KRW-ETH - 날짜 2024-01-04 삭제 후 append\nbronze.bronze_krw_xrp\n/mnt/my-mount/KRW-XRP/KRW-XRP-2024-01-04.json\n+----------------------+-----------------------+--------------------+--------------------+------------+------------+----------+---------+-------+-------------+------------------+-------------+-----------+\n|candle_acc_trade_price|candle_acc_trade_volume|candle_date_time_kst|candle_date_time_utc|change_price|change_rate |high_price|low_price|market |opening_price|prev_closing_price|timestamp    |trade_price|\n+----------------------+-----------------------+--------------------+--------------------+------------+------------+----------+---------+-------+-------------+------------------+-------------+-----------+\n|1.9343646817540485E11 |2.4715619388997957E8   |2024-01-04T09:00:00 |2024-01-04T00:00:00 |-5.0        |-0.006281407|800.0     |768.0    |KRW-XRP|796.0        |796.0             |1704412795263|791.0      |\n+----------------------+-----------------------+--------------------+--------------------+------------+------------+----------+---------+-------+-------------+------------------+-------------+-----------+\n\n****************************************************************************************************\n✅ KRW-XRP - 날짜 2024-01-04 삭제 후 append\n"
     ]
    }
   ],
   "source": [
    "\n",
    "# bronze 계층 증분 데이터 로드\n",
    "from pyspark.sql.functions import col, to_date\n",
    "\n",
    "execution_date = \"2024-01-04\"\n",
    "\n",
    "for market in [\"KRW-BTC\", \"KRW-ETH\", \"KRW-XRP\"]:\n",
    "    table_name = f\"bronze.bronze_{market.lower().replace('-', '_')}\"\n",
    "    json_path = f\"/mnt/my-mount/{market}/{market}-{execution_date}.json\"\n",
    "\n",
    "    print(table_name)\n",
    "    print(json_path)\n",
    "\n",
    "    try:\n",
    "        # 원본 JSON 읽기\n",
    "        bronze_df = spark.read.option(\"multiline\", \"true\").json(json_path)\n",
    "        bronze_df.show(truncate=False)\n",
    "        print(\"*\" * 100)\n",
    "\n",
    "        # 날짜 존재 여부 확인\n",
    "        is_exist = (\n",
    "            spark.table(table_name)\n",
    "            .filter(to_date(col(\"candle_date_time_kst\")) == execution_date)\n",
    "            .limit(1)\n",
    "            .count()\n",
    "            > 0\n",
    "        )\n",
    "\n",
    "        if is_exist:\n",
    "            print(f\"✅ {market} - 날짜 {execution_date} 삭제 후 append\")\n",
    "\n",
    "            # 먼저 해당 날짜 삭제\n",
    "            spark.sql(\n",
    "                f\"\"\"\n",
    "                DELETE FROM {table_name}\n",
    "                WHERE to_date(candle_date_time_kst) = DATE('{execution_date}')\n",
    "                \"\"\"\n",
    "            )\n",
    "\n",
    "        else:\n",
    "            print(f\"\uD83C\uDD95 {market} - 날짜 {execution_date} append\")\n",
    "\n",
    "        # 공통: 데이터 추가\n",
    "        bronze_df.write.format(\"delta\").mode(\"append\").saveAsTable(table_name)\n",
    "\n",
    "    except Exception as e:\n",
    "        print(f\"❌ {market} 처리 실패: {e}\")\n"
   ]
  },
  {
   "cell_type": "markdown",
   "metadata": {
    "application/vnd.databricks.v1+cell": {
     "cellMetadata": {},
     "inputWidgets": {},
     "nuid": "7d2f677e-cb4c-4768-824e-abeecaf6a0db",
     "showTitle": false,
     "tableResultSettingsMap": {},
     "title": ""
    }
   },
   "source": [
    "6. Silver 테이블 증분 데이터 코드"
   ]
  },
  {
   "cell_type": "code",
   "execution_count": 0,
   "metadata": {
    "application/vnd.databricks.v1+cell": {
     "cellMetadata": {
      "byteLimit": 2048000,
      "rowLimit": 10000
     },
     "inputWidgets": {},
     "nuid": "a3cc0986-38b0-439a-9ad2-eebcbdbc8ddd",
     "showTitle": false,
     "tableResultSettingsMap": {},
     "title": ""
    }
   },
   "outputs": [
    {
     "output_type": "stream",
     "name": "stdout",
     "output_type": "stream",
     "text": [
      "\uD83C\uDD95 KRW-BTC - 날짜 2024-01-04 append\n\uD83C\uDD95 KRW-ETH - 날짜 2024-01-04 append\n\uD83C\uDD95 KRW-XRP - 날짜 2024-01-04 append\n"
     ]
    }
   ],
   "source": [
    "# silver 계층 증분 데이터 로드\n",
    "\n",
    "from pyspark.sql.functions import col, to_date, year, month, dayofmonth, current_timestamp\n",
    "\n",
    "execution_date = \"2024-01-04\"\n",
    "\n",
    "for market in [\"KRW-BTC\", \"KRW-ETH\", \"KRW-XRP\"]:\n",
    "    bronze_table = f\"bronze.bronze_{market.lower().replace('-', '_')}\"\n",
    "    silver_table = f\"silver.silver_{market.lower().replace('-', '_')}\"\n",
    "    \n",
    "    # ✅ Step 1. Bronze에서 해당 날짜 데이터 필터링\n",
    "    bronze_df = spark.table(bronze_table)\n",
    "    bronze_filtered = bronze_df.filter(to_date(col(\"candle_date_time_kst\")) == execution_date)\n",
    "\n",
    "    # ✅ Step 2. Silver로 가공\n",
    "    silver_df = bronze_filtered.withColumn(\"date\", to_date(col(\"candle_date_time_kst\"))) \\\n",
    "        .withColumn(\"volume\", col(\"candle_acc_trade_volume\")) \\\n",
    "        .withColumn(\"value\", col(\"candle_acc_trade_price\")) \\\n",
    "        .withColumn(\"year\", year(col(\"date\"))) \\\n",
    "        .withColumn(\"month\", month(col(\"date\"))) \\\n",
    "        .withColumn(\"day\", dayofmonth(col(\"date\"))) \\\n",
    "        .withColumn(\"load_timestamp\", current_timestamp()) \\\n",
    "        .select(\n",
    "            \"market\", \"date\", \"year\", \"month\", \"day\",\n",
    "            \"opening_price\", \"high_price\", \"low_price\", \"trade_price\",\n",
    "            \"prev_closing_price\", \"change_price\", \"change_rate\",\n",
    "            \"volume\", \"value\", \"load_timestamp\"\n",
    "        )\n",
    "\n",
    "    # ✅ Step 3. Silver 테이블에 해당 날짜 존재 여부 확인 및 삭제\n",
    "    from pyspark.sql.utils import AnalysisException\n",
    "\n",
    "    try:\n",
    "        is_exist = (\n",
    "            spark.table(silver_table)\n",
    "            .filter((col(\"market\") == market) & (col(\"date\") == execution_date))\n",
    "            .limit(1)\n",
    "            .count() > 0\n",
    "        )\n",
    "    except AnalysisException:\n",
    "        is_exist = False  # 테이블이 아직 없으면\n",
    "\n",
    "    if is_exist:\n",
    "        print(f\"✅ {market} - 날짜 {execution_date} 삭제 후 append\")\n",
    "        spark.sql(\n",
    "            f\"\"\"\n",
    "            DELETE FROM {silver_table}\n",
    "            WHERE market = '{market}' AND date = DATE('{execution_date}')\n",
    "            \"\"\"\n",
    "        )\n",
    "    else:\n",
    "        print(f\"\uD83C\uDD95 {market} - 날짜 {execution_date} append\")\n",
    "\n",
    "    # ✅ Step 4. Append\n",
    "    silver_df.write.format(\"delta\") \\\n",
    "        .mode(\"append\") \\\n",
    "        .partitionBy(\"market\", \"year\", \"month\") \\\n",
    "        .saveAsTable(silver_table)\n"
   ]
  },
  {
   "cell_type": "code",
   "execution_count": 0,
   "metadata": {
    "application/vnd.databricks.v1+cell": {
     "cellMetadata": {
      "byteLimit": 2048000,
      "implicitDf": true,
      "rowLimit": 10000
     },
     "inputWidgets": {},
     "nuid": "84ec2d2b-6ff1-4a81-be3a-7a476ee4e119",
     "showTitle": false,
     "tableResultSettingsMap": {},
     "title": ""
    }
   },
   "outputs": [
    {
     "output_type": "display_data",
     "data": {
      "text/html": [
       "<style scoped>\n",
       "  .table-result-container {\n",
       "    max-height: 300px;\n",
       "    overflow: auto;\n",
       "  }\n",
       "  table, th, td {\n",
       "    border: 1px solid black;\n",
       "    border-collapse: collapse;\n",
       "  }\n",
       "  th, td {\n",
       "    padding: 5px;\n",
       "  }\n",
       "  th {\n",
       "    text-align: left;\n",
       "  }\n",
       "</style><div class='table-result-container'><table class='table-result'><thead style='background-color: white'><tr><th>market</th><th>date</th><th>year</th><th>month</th><th>day</th><th>opening_price</th><th>high_price</th><th>low_price</th><th>trade_price</th><th>prev_closing_price</th><th>change_price</th><th>change_rate</th><th>volume</th><th>value</th><th>load_timestamp</th></tr></thead><tbody><tr><td>KRW-BTC</td><td>2024-01-01</td><td>2024</td><td>1</td><td>1</td><td>5.7045E7</td><td>5.8847E7</td><td>5.7045E7</td><td>5.8839E7</td><td>5.7047E7</td><td>1792000.0</td><td>0.0314126948</td><td>3165.32092908</td><td>1.8249121791430185E11</td><td>2025-06-17T10:30:25.353Z</td></tr><tr><td>KRW-BTC</td><td>2024-01-02</td><td>2024</td><td>1</td><td>2</td><td>5.8839E7</td><td>6.0997E7</td><td>5.8814E7</td><td>6.0206E7</td><td>5.8839E7</td><td>1367000.0</td><td>0.0232328897</td><td>8221.19868374</td><td>4.950387804637768E11</td><td>2025-06-17T10:30:25.353Z</td></tr><tr><td>KRW-BTC</td><td>2023-12-31</td><td>2023</td><td>12</td><td>31</td><td>5.6639E7</td><td>5.7437E7</td><td>5.6452E7</td><td>5.7047E7</td><td>5.6639E7</td><td>408000.0</td><td>0.007203517</td><td>2308.38316024</td><td>1.3151948029509232E11</td><td>2025-06-17T10:30:25.353Z</td></tr><tr><td>KRW-BTC</td><td>2024-01-04</td><td>2024</td><td>1</td><td>4</td><td>5.8581E7</td><td>6.0162E7</td><td>5.7319E7</td><td>5.9477E7</td><td>5.8581E7</td><td>896000.0</td><td>0.0152950615</td><td>6254.53768656</td><td>3.660256480668456E11</td><td>2025-06-17T10:38:02.131Z</td></tr><tr><td>KRW-BTC</td><td>2024-01-03</td><td>2024</td><td>1</td><td>3</td><td>6.0205E7</td><td>6.0799E7</td><td>5.4346E7</td><td>5.8581E7</td><td>6.0206E7</td><td>-1625000.0</td><td>-0.0269906654</td><td>16310.30692586</td><td>9.458411835352499E11</td><td>2025-06-17T10:30:25.353Z</td></tr></tbody></table></div>"
      ]
     },
     "metadata": {
      "application/vnd.databricks.v1+output": {
       "addedWidgets": {},
       "aggData": [],
       "aggError": "",
       "aggOverflow": false,
       "aggSchema": [],
       "aggSeriesLimitReached": false,
       "aggType": "",
       "arguments": {},
       "columnCustomDisplayInfos": {},
       "data": [
        [
         "KRW-BTC",
         "2024-01-01",
         2024,
         1,
         1,
         5.7045E7,
         5.8847E7,
         5.7045E7,
         5.8839E7,
         5.7047E7,
         1792000.0,
         0.0314126948,
         3165.32092908,
         1.8249121791430185E11,
         "2025-06-17T10:30:25.353Z"
        ],
        [
         "KRW-BTC",
         "2024-01-02",
         2024,
         1,
         2,
         5.8839E7,
         6.0997E7,
         5.8814E7,
         6.0206E7,
         5.8839E7,
         1367000.0,
         0.0232328897,
         8221.19868374,
         4.950387804637768E11,
         "2025-06-17T10:30:25.353Z"
        ],
        [
         "KRW-BTC",
         "2023-12-31",
         2023,
         12,
         31,
         5.6639E7,
         5.7437E7,
         5.6452E7,
         5.7047E7,
         5.6639E7,
         408000.0,
         0.007203517,
         2308.38316024,
         1.3151948029509232E11,
         "2025-06-17T10:30:25.353Z"
        ],
        [
         "KRW-BTC",
         "2024-01-04",
         2024,
         1,
         4,
         5.8581E7,
         6.0162E7,
         5.7319E7,
         5.9477E7,
         5.8581E7,
         896000.0,
         0.0152950615,
         6254.53768656,
         3.660256480668456E11,
         "2025-06-17T10:38:02.131Z"
        ],
        [
         "KRW-BTC",
         "2024-01-03",
         2024,
         1,
         3,
         6.0205E7,
         6.0799E7,
         5.4346E7,
         5.8581E7,
         6.0206E7,
         -1625000.0,
         -0.0269906654,
         16310.30692586,
         9.458411835352499E11,
         "2025-06-17T10:30:25.353Z"
        ]
       ],
       "datasetInfos": [],
       "dbfsResultPath": null,
       "isJsonSchema": true,
       "metadata": {
        "createTempViewForImplicitDf": true,
        "dataframeName": "_sqldf",
        "executionCount": 112
       },
       "overflow": false,
       "plotOptions": {
        "customPlotOptions": {},
        "displayType": "table",
        "pivotAggregation": null,
        "pivotColumns": null,
        "xColumns": null,
        "yColumns": null
       },
       "removedWidgets": [],
       "schema": [
        {
         "metadata": "{}",
         "name": "market",
         "type": "\"string\""
        },
        {
         "metadata": "{}",
         "name": "date",
         "type": "\"date\""
        },
        {
         "metadata": "{}",
         "name": "year",
         "type": "\"integer\""
        },
        {
         "metadata": "{}",
         "name": "month",
         "type": "\"integer\""
        },
        {
         "metadata": "{}",
         "name": "day",
         "type": "\"integer\""
        },
        {
         "metadata": "{}",
         "name": "opening_price",
         "type": "\"double\""
        },
        {
         "metadata": "{}",
         "name": "high_price",
         "type": "\"double\""
        },
        {
         "metadata": "{}",
         "name": "low_price",
         "type": "\"double\""
        },
        {
         "metadata": "{}",
         "name": "trade_price",
         "type": "\"double\""
        },
        {
         "metadata": "{}",
         "name": "prev_closing_price",
         "type": "\"double\""
        },
        {
         "metadata": "{}",
         "name": "change_price",
         "type": "\"double\""
        },
        {
         "metadata": "{}",
         "name": "change_rate",
         "type": "\"double\""
        },
        {
         "metadata": "{}",
         "name": "volume",
         "type": "\"double\""
        },
        {
         "metadata": "{}",
         "name": "value",
         "type": "\"double\""
        },
        {
         "metadata": "{}",
         "name": "load_timestamp",
         "type": "\"timestamp\""
        }
       ],
       "type": "table"
      }
     },
     "output_type": "display_data"
    }
   ],
   "source": [
    "%sql\n",
    "\n",
    "SELECT * FROM silver.silver_krw_btc"
   ]
  },
  {
   "cell_type": "code",
   "execution_count": 0,
   "metadata": {
    "application/vnd.databricks.v1+cell": {
     "cellMetadata": {
      "byteLimit": 2048000,
      "implicitDf": true,
      "rowLimit": 10000
     },
     "inputWidgets": {},
     "nuid": "920503b6-c362-4c8a-938a-5fe106fd5bec",
     "showTitle": false,
     "tableResultSettingsMap": {},
     "title": ""
    }
   },
   "outputs": [
    {
     "output_type": "display_data",
     "data": {
      "text/html": [
       "<style scoped>\n",
       "  .table-result-container {\n",
       "    max-height: 300px;\n",
       "    overflow: auto;\n",
       "  }\n",
       "  table, th, td {\n",
       "    border: 1px solid black;\n",
       "    border-collapse: collapse;\n",
       "  }\n",
       "  th, td {\n",
       "    padding: 5px;\n",
       "  }\n",
       "  th {\n",
       "    text-align: left;\n",
       "  }\n",
       "</style><div class='table-result-container'><table class='table-result'><thead style='background-color: white'><tr><th>market</th><th>date</th><th>year</th><th>month</th><th>day</th><th>opening_price</th><th>high_price</th><th>low_price</th><th>trade_price</th><th>prev_closing_price</th><th>change_price</th><th>change_rate</th><th>volume</th><th>value</th><th>load_timestamp</th></tr></thead><tbody><tr><td>KRW-ETH</td><td>2024-01-04</td><td>2024</td><td>1</td><td>4</td><td>3024000.0</td><td>3078000.0</td><td>2967000.0</td><td>3053000.0</td><td>3024000.0</td><td>29000.0</td><td>0.0095899471</td><td>24389.84136858</td><td>7.359371713683714E10</td><td>2025-06-17T10:38:04.145Z</td></tr><tr><td>KRW-ETH</td><td>2024-01-03</td><td>2024</td><td>1</td><td>3</td><td>3154000.0</td><td>3190000.0</td><td>2851000.0</td><td>3024000.0</td><td>3154000.0</td><td>-130000.0</td><td>-0.0412175016</td><td>57149.37569621</td><td>1.7353056946093912E11</td><td>2025-06-17T10:30:36.061Z</td></tr><tr><td>KRW-ETH</td><td>2024-01-02</td><td>2024</td><td>1</td><td>2</td><td>3134000.0</td><td>3230000.0</td><td>3128000.0</td><td>3154000.0</td><td>3136000.0</td><td>18000.0</td><td>0.0057397959</td><td>29124.21085963</td><td>9.257473077870413E10</td><td>2025-06-17T10:30:36.061Z</td></tr><tr><td>KRW-ETH</td><td>2024-01-01</td><td>2024</td><td>1</td><td>1</td><td>3082000.0</td><td>3140000.0</td><td>3070000.0</td><td>3136000.0</td><td>3082000.0</td><td>54000.0</td><td>0.0175210902</td><td>11918.79208026</td><td>3.692391045709838E10</td><td>2025-06-17T10:30:36.061Z</td></tr><tr><td>KRW-ETH</td><td>2023-12-31</td><td>2023</td><td>12</td><td>31</td><td>3081000.0</td><td>3109000.0</td><td>3060000.0</td><td>3082000.0</td><td>3081000.0</td><td>1000.0</td><td>3.245699E-4</td><td>12170.32394322</td><td>3.749705506356301E10</td><td>2025-06-17T10:30:36.061Z</td></tr></tbody></table></div>"
      ]
     },
     "metadata": {
      "application/vnd.databricks.v1+output": {
       "addedWidgets": {},
       "aggData": [],
       "aggError": "",
       "aggOverflow": false,
       "aggSchema": [],
       "aggSeriesLimitReached": false,
       "aggType": "",
       "arguments": {},
       "columnCustomDisplayInfos": {},
       "data": [
        [
         "KRW-ETH",
         "2024-01-04",
         2024,
         1,
         4,
         3024000.0,
         3078000.0,
         2967000.0,
         3053000.0,
         3024000.0,
         29000.0,
         0.0095899471,
         24389.84136858,
         7.359371713683714E10,
         "2025-06-17T10:38:04.145Z"
        ],
        [
         "KRW-ETH",
         "2024-01-03",
         2024,
         1,
         3,
         3154000.0,
         3190000.0,
         2851000.0,
         3024000.0,
         3154000.0,
         -130000.0,
         -0.0412175016,
         57149.37569621,
         1.7353056946093912E11,
         "2025-06-17T10:30:36.061Z"
        ],
        [
         "KRW-ETH",
         "2024-01-02",
         2024,
         1,
         2,
         3134000.0,
         3230000.0,
         3128000.0,
         3154000.0,
         3136000.0,
         18000.0,
         0.0057397959,
         29124.21085963,
         9.257473077870413E10,
         "2025-06-17T10:30:36.061Z"
        ],
        [
         "KRW-ETH",
         "2024-01-01",
         2024,
         1,
         1,
         3082000.0,
         3140000.0,
         3070000.0,
         3136000.0,
         3082000.0,
         54000.0,
         0.0175210902,
         11918.79208026,
         3.692391045709838E10,
         "2025-06-17T10:30:36.061Z"
        ],
        [
         "KRW-ETH",
         "2023-12-31",
         2023,
         12,
         31,
         3081000.0,
         3109000.0,
         3060000.0,
         3082000.0,
         3081000.0,
         1000.0,
         3.245699E-4,
         12170.32394322,
         3.749705506356301E10,
         "2025-06-17T10:30:36.061Z"
        ]
       ],
       "datasetInfos": [],
       "dbfsResultPath": null,
       "isJsonSchema": true,
       "metadata": {
        "createTempViewForImplicitDf": true,
        "dataframeName": "_sqldf",
        "executionCount": 113
       },
       "overflow": false,
       "plotOptions": {
        "customPlotOptions": {},
        "displayType": "table",
        "pivotAggregation": null,
        "pivotColumns": null,
        "xColumns": null,
        "yColumns": null
       },
       "removedWidgets": [],
       "schema": [
        {
         "metadata": "{}",
         "name": "market",
         "type": "\"string\""
        },
        {
         "metadata": "{}",
         "name": "date",
         "type": "\"date\""
        },
        {
         "metadata": "{}",
         "name": "year",
         "type": "\"integer\""
        },
        {
         "metadata": "{}",
         "name": "month",
         "type": "\"integer\""
        },
        {
         "metadata": "{}",
         "name": "day",
         "type": "\"integer\""
        },
        {
         "metadata": "{}",
         "name": "opening_price",
         "type": "\"double\""
        },
        {
         "metadata": "{}",
         "name": "high_price",
         "type": "\"double\""
        },
        {
         "metadata": "{}",
         "name": "low_price",
         "type": "\"double\""
        },
        {
         "metadata": "{}",
         "name": "trade_price",
         "type": "\"double\""
        },
        {
         "metadata": "{}",
         "name": "prev_closing_price",
         "type": "\"double\""
        },
        {
         "metadata": "{}",
         "name": "change_price",
         "type": "\"double\""
        },
        {
         "metadata": "{}",
         "name": "change_rate",
         "type": "\"double\""
        },
        {
         "metadata": "{}",
         "name": "volume",
         "type": "\"double\""
        },
        {
         "metadata": "{}",
         "name": "value",
         "type": "\"double\""
        },
        {
         "metadata": "{}",
         "name": "load_timestamp",
         "type": "\"timestamp\""
        }
       ],
       "type": "table"
      }
     },
     "output_type": "display_data"
    }
   ],
   "source": [
    "%sql\n",
    "\n",
    "SELECT * FROM silver.silver_krw_eth"
   ]
  },
  {
   "cell_type": "code",
   "execution_count": 0,
   "metadata": {
    "application/vnd.databricks.v1+cell": {
     "cellMetadata": {
      "byteLimit": 2048000,
      "implicitDf": true,
      "rowLimit": 10000
     },
     "inputWidgets": {},
     "nuid": "dd1b6443-652a-4ea9-b9ee-c7722cfed57d",
     "showTitle": false,
     "tableResultSettingsMap": {},
     "title": ""
    }
   },
   "outputs": [
    {
     "output_type": "display_data",
     "data": {
      "text/html": [
       "<style scoped>\n",
       "  .table-result-container {\n",
       "    max-height: 300px;\n",
       "    overflow: auto;\n",
       "  }\n",
       "  table, th, td {\n",
       "    border: 1px solid black;\n",
       "    border-collapse: collapse;\n",
       "  }\n",
       "  th, td {\n",
       "    padding: 5px;\n",
       "  }\n",
       "  th {\n",
       "    text-align: left;\n",
       "  }\n",
       "</style><div class='table-result-container'><table class='table-result'><thead style='background-color: white'><tr><th>market</th><th>date</th><th>year</th><th>month</th><th>day</th><th>opening_price</th><th>high_price</th><th>low_price</th><th>trade_price</th><th>prev_closing_price</th><th>change_price</th><th>change_rate</th><th>volume</th><th>value</th><th>load_timestamp</th></tr></thead><tbody><tr><td>KRW-ETH</td><td>2024-01-04</td><td>2024</td><td>1</td><td>4</td><td>3024000.0</td><td>3078000.0</td><td>2967000.0</td><td>3053000.0</td><td>3024000.0</td><td>29000.0</td><td>0.0095899471</td><td>24389.84136858</td><td>7.359371713683714E10</td><td>2025-06-17T11:07:38.87Z</td></tr><tr><td>KRW-ETH</td><td>2024-01-03</td><td>2024</td><td>1</td><td>3</td><td>3154000.0</td><td>3190000.0</td><td>2851000.0</td><td>3024000.0</td><td>3154000.0</td><td>-130000.0</td><td>-0.0412175016</td><td>57149.37569621</td><td>1.7353056946093912E11</td><td>2025-06-17T10:30:36.061Z</td></tr><tr><td>KRW-ETH</td><td>2024-01-02</td><td>2024</td><td>1</td><td>2</td><td>3134000.0</td><td>3230000.0</td><td>3128000.0</td><td>3154000.0</td><td>3136000.0</td><td>18000.0</td><td>0.0057397959</td><td>29124.21085963</td><td>9.257473077870413E10</td><td>2025-06-17T10:30:36.061Z</td></tr><tr><td>KRW-ETH</td><td>2024-01-01</td><td>2024</td><td>1</td><td>1</td><td>3082000.0</td><td>3140000.0</td><td>3070000.0</td><td>3136000.0</td><td>3082000.0</td><td>54000.0</td><td>0.0175210902</td><td>11918.79208026</td><td>3.692391045709838E10</td><td>2025-06-17T10:30:36.061Z</td></tr><tr><td>KRW-ETH</td><td>2023-12-31</td><td>2023</td><td>12</td><td>31</td><td>3081000.0</td><td>3109000.0</td><td>3060000.0</td><td>3082000.0</td><td>3081000.0</td><td>1000.0</td><td>3.245699E-4</td><td>12170.32394322</td><td>3.749705506356301E10</td><td>2025-06-17T10:30:36.061Z</td></tr></tbody></table></div>"
      ]
     },
     "metadata": {
      "application/vnd.databricks.v1+output": {
       "addedWidgets": {},
       "aggData": [],
       "aggError": "",
       "aggOverflow": false,
       "aggSchema": [],
       "aggSeriesLimitReached": false,
       "aggType": "",
       "arguments": {},
       "columnCustomDisplayInfos": {},
       "data": [
        [
         "KRW-ETH",
         "2024-01-04",
         2024,
         1,
         4,
         3024000.0,
         3078000.0,
         2967000.0,
         3053000.0,
         3024000.0,
         29000.0,
         0.0095899471,
         24389.84136858,
         7.359371713683714E10,
         "2025-06-17T11:07:38.87Z"
        ],
        [
         "KRW-ETH",
         "2024-01-03",
         2024,
         1,
         3,
         3154000.0,
         3190000.0,
         2851000.0,
         3024000.0,
         3154000.0,
         -130000.0,
         -0.0412175016,
         57149.37569621,
         1.7353056946093912E11,
         "2025-06-17T10:30:36.061Z"
        ],
        [
         "KRW-ETH",
         "2024-01-02",
         2024,
         1,
         2,
         3134000.0,
         3230000.0,
         3128000.0,
         3154000.0,
         3136000.0,
         18000.0,
         0.0057397959,
         29124.21085963,
         9.257473077870413E10,
         "2025-06-17T10:30:36.061Z"
        ],
        [
         "KRW-ETH",
         "2024-01-01",
         2024,
         1,
         1,
         3082000.0,
         3140000.0,
         3070000.0,
         3136000.0,
         3082000.0,
         54000.0,
         0.0175210902,
         11918.79208026,
         3.692391045709838E10,
         "2025-06-17T10:30:36.061Z"
        ],
        [
         "KRW-ETH",
         "2023-12-31",
         2023,
         12,
         31,
         3081000.0,
         3109000.0,
         3060000.0,
         3082000.0,
         3081000.0,
         1000.0,
         3.245699E-4,
         12170.32394322,
         3.749705506356301E10,
         "2025-06-17T10:30:36.061Z"
        ]
       ],
       "datasetInfos": [],
       "dbfsResultPath": null,
       "isJsonSchema": true,
       "metadata": {
        "createTempViewForImplicitDf": true,
        "dataframeName": "_sqldf",
        "executionCount": 119
       },
       "overflow": false,
       "plotOptions": {
        "customPlotOptions": {},
        "displayType": "table",
        "pivotAggregation": null,
        "pivotColumns": null,
        "xColumns": null,
        "yColumns": null
       },
       "removedWidgets": [],
       "schema": [
        {
         "metadata": "{}",
         "name": "market",
         "type": "\"string\""
        },
        {
         "metadata": "{}",
         "name": "date",
         "type": "\"date\""
        },
        {
         "metadata": "{}",
         "name": "year",
         "type": "\"integer\""
        },
        {
         "metadata": "{}",
         "name": "month",
         "type": "\"integer\""
        },
        {
         "metadata": "{}",
         "name": "day",
         "type": "\"integer\""
        },
        {
         "metadata": "{}",
         "name": "opening_price",
         "type": "\"double\""
        },
        {
         "metadata": "{}",
         "name": "high_price",
         "type": "\"double\""
        },
        {
         "metadata": "{}",
         "name": "low_price",
         "type": "\"double\""
        },
        {
         "metadata": "{}",
         "name": "trade_price",
         "type": "\"double\""
        },
        {
         "metadata": "{}",
         "name": "prev_closing_price",
         "type": "\"double\""
        },
        {
         "metadata": "{}",
         "name": "change_price",
         "type": "\"double\""
        },
        {
         "metadata": "{}",
         "name": "change_rate",
         "type": "\"double\""
        },
        {
         "metadata": "{}",
         "name": "volume",
         "type": "\"double\""
        },
        {
         "metadata": "{}",
         "name": "value",
         "type": "\"double\""
        },
        {
         "metadata": "{}",
         "name": "load_timestamp",
         "type": "\"timestamp\""
        }
       ],
       "type": "table"
      }
     },
     "output_type": "display_data"
    }
   ],
   "source": [
    "%sql\n",
    "\n",
    "SELECT * FROM silver.silver_krw_eth"
   ]
  },
  {
   "cell_type": "code",
   "execution_count": 0,
   "metadata": {
    "application/vnd.databricks.v1+cell": {
     "cellMetadata": {
      "byteLimit": 2048000,
      "rowLimit": 10000
     },
     "inputWidgets": {},
     "nuid": "993497b6-abb7-4231-a2c5-11b64558db83",
     "showTitle": false,
     "tableResultSettingsMap": {},
     "title": ""
    }
   },
   "outputs": [
    {
     "output_type": "stream",
     "name": "stdout",
     "output_type": "stream",
     "text": [
      "\uD83E\uDDF9 KRW-BTC - 2024-01-04 기존 데이터 삭제\n\uD83D\uDCBE KRW-BTC - 2024-01-04 데이터 저장 중...\n✅ KRW-BTC - 2024-01-04 저장 완료\n\uD83E\uDDF9 KRW-ETH - 2024-01-04 기존 데이터 삭제\n\uD83D\uDCBE KRW-ETH - 2024-01-04 데이터 저장 중...\n✅ KRW-ETH - 2024-01-04 저장 완료\n\uD83E\uDDF9 KRW-XRP - 2024-01-04 기존 데이터 삭제\n\uD83D\uDCBE KRW-XRP - 2024-01-04 데이터 저장 중...\n✅ KRW-XRP - 2024-01-04 저장 완료\n"
     ]
    }
   ],
   "source": [
    "# Silver Incremental Load Notebook 시작\n",
    "dbutils.widgets.text(\"execution_date\", \"2024-01-04\")\n",
    "execution_date = dbutils.widgets.get(\"execution_date\")\n",
    "\n",
    "from pyspark.sql.functions import col, to_date, year, month, dayofmonth, current_timestamp\n",
    "from pyspark.sql.utils import AnalysisException\n",
    "\n",
    "# 마켓 목록\n",
    "markets = [\"KRW-BTC\", \"KRW-ETH\", \"KRW-XRP\"]\n",
    "\n",
    "for market in markets:\n",
    "    bronze_table = f\"bronze.bronze_{market.lower().replace('-', '_')}\"\n",
    "    silver_table = f\"silver.silver_{market.lower().replace('-', '_')}\"\n",
    "\n",
    "    try:\n",
    "        # Step 1. Bronze에서 해당 날짜만 필터링\n",
    "        bronze_df = spark.table(bronze_table)\n",
    "        bronze_filtered = bronze_df.filter(to_date(col(\"candle_date_time_kst\")) == execution_date)\n",
    "\n",
    "        if bronze_filtered.count() == 0:\n",
    "            print(f\"⚠️ {market} - 해당 날짜({execution_date}) 데이터 없음. Skip.\")\n",
    "            continue\n",
    "\n",
    "        # Step 2. Silver 변환\n",
    "        silver_df = bronze_filtered.withColumn(\"date\", to_date(col(\"candle_date_time_kst\"))) \\\n",
    "            .withColumn(\"volume\", col(\"candle_acc_trade_volume\")) \\\n",
    "            .withColumn(\"value\", col(\"candle_acc_trade_price\")) \\\n",
    "            .withColumn(\"year\", year(col(\"date\"))) \\\n",
    "            .withColumn(\"month\", month(col(\"date\"))) \\\n",
    "            .withColumn(\"day\", dayofmonth(col(\"date\"))) \\\n",
    "            .withColumn(\"load_timestamp\", current_timestamp()) \\\n",
    "            .select(\n",
    "                \"market\", \"date\", \"year\", \"month\", \"day\",\n",
    "                \"opening_price\", \"high_price\", \"low_price\", \"trade_price\",\n",
    "                \"prev_closing_price\", \"change_price\", \"change_rate\",\n",
    "                \"volume\", \"value\", \"load_timestamp\"\n",
    "            )\n",
    "\n",
    "        # Step 3. 기존 silver 테이블에서 해당 날짜 삭제 (있으면)\n",
    "        try:\n",
    "            is_exist = (\n",
    "                spark.table(silver_table)\n",
    "                .filter((col(\"market\") == market) & (col(\"date\") == execution_date))\n",
    "                .limit(1)\n",
    "                .count() > 0\n",
    "            )\n",
    "        except AnalysisException:\n",
    "            is_exist = False  # 테이블이 아예 없는 경우\n",
    "\n",
    "        if is_exist:\n",
    "            print(f\"\uD83E\uDDF9 {market} - {execution_date} 기존 데이터 삭제\")\n",
    "            spark.sql(\n",
    "                f\"\"\"\n",
    "                DELETE FROM {silver_table}\n",
    "                WHERE market = '{market}' AND date = DATE('{execution_date}')\n",
    "                \"\"\"\n",
    "            )\n",
    "\n",
    "        # Step 4. Append 저장\n",
    "        print(f\"\uD83D\uDCBE {market} - {execution_date} 데이터 저장 중...\")\n",
    "        silver_df.write.format(\"delta\") \\\n",
    "            .mode(\"append\") \\\n",
    "            .partitionBy(\"market\", \"year\", \"month\") \\\n",
    "            .saveAsTable(silver_table)\n",
    "\n",
    "        print(f\"✅ {market} - {execution_date} 저장 완료\")\n",
    "\n",
    "    except Exception as e:\n",
    "        print(f\"❌ {market} 처리 실패: {e}\")\n"
   ]
  },
  {
   "cell_type": "code",
   "execution_count": 0,
   "metadata": {
    "application/vnd.databricks.v1+cell": {
     "cellMetadata": {
      "byteLimit": 2048000,
      "rowLimit": 10000
     },
     "inputWidgets": {},
     "nuid": "736b0668-0498-4373-b6b5-b60b9da0a5bf",
     "showTitle": false,
     "tableResultSettingsMap": {},
     "title": ""
    }
   },
   "outputs": [
    {
     "output_type": "stream",
     "name": "stdout",
     "output_type": "stream",
     "text": [
      "test\n"
     ]
    }
   ],
   "source": [
    "print(\"test\")"
   ]
  },
  {
   "cell_type": "code",
   "execution_count": 0,
   "metadata": {
    "application/vnd.databricks.v1+cell": {
     "cellMetadata": {
      "byteLimit": 2048000,
      "implicitDf": true,
      "rowLimit": 10000
     },
     "inputWidgets": {},
     "nuid": "357362a0-5e88-4c72-9eaf-3f53234f2531",
     "showTitle": false,
     "tableResultSettingsMap": {},
     "title": ""
    }
   },
   "outputs": [
    {
     "output_type": "display_data",
     "data": {
      "text/html": [
       "<style scoped>\n",
       "  .table-result-container {\n",
       "    max-height: 300px;\n",
       "    overflow: auto;\n",
       "  }\n",
       "  table, th, td {\n",
       "    border: 1px solid black;\n",
       "    border-collapse: collapse;\n",
       "  }\n",
       "  th, td {\n",
       "    padding: 5px;\n",
       "  }\n",
       "  th {\n",
       "    text-align: left;\n",
       "  }\n",
       "</style><div class='table-result-container'><table class='table-result'><thead style='background-color: white'><tr><th>candle_acc_trade_price</th><th>candle_acc_trade_volume</th><th>candle_date_time_kst</th><th>candle_date_time_utc</th><th>change_price</th><th>change_rate</th><th>high_price</th><th>low_price</th><th>market</th><th>opening_price</th><th>prev_closing_price</th><th>timestamp</th><th>trade_price</th></tr></thead><tbody><tr><td>3.660256480668456E11</td><td>6254.53768656</td><td>2024-01-04T09:00:00</td><td>2024-01-04T00:00:00</td><td>896000.0</td><td>0.0152950615</td><td>6.0162E7</td><td>5.7319E7</td><td>KRW-BTC</td><td>5.8581E7</td><td>5.8581E7</td><td>1704412798132</td><td>5.9477E7</td></tr><tr><td>9.458411835352499E11</td><td>16310.30692586</td><td>2024-01-03T09:00:00</td><td>2024-01-03T00:00:00</td><td>-1625000.0</td><td>-0.0269906654</td><td>6.0799E7</td><td>5.4346E7</td><td>KRW-BTC</td><td>6.0205E7</td><td>6.0206E7</td><td>1704326399884</td><td>5.8581E7</td></tr><tr><td>1.8249121791430185E11</td><td>3165.32092908</td><td>2024-01-01T09:00:00</td><td>2024-01-01T00:00:00</td><td>1792000.0</td><td>0.0314126948</td><td>5.8847E7</td><td>5.7045E7</td><td>KRW-BTC</td><td>5.7045E7</td><td>5.7047E7</td><td>1704153599562</td><td>5.8839E7</td></tr><tr><td>4.950387804637768E11</td><td>8221.19868374</td><td>2024-01-02T09:00:00</td><td>2024-01-02T00:00:00</td><td>1367000.0</td><td>0.0232328897</td><td>6.0997E7</td><td>5.8814E7</td><td>KRW-BTC</td><td>5.8839E7</td><td>5.8839E7</td><td>1704239999808</td><td>6.0206E7</td></tr><tr><td>1.3151948029509232E11</td><td>2308.38316024</td><td>2023-12-31T09:00:00</td><td>2023-12-31T00:00:00</td><td>408000.0</td><td>0.007203517</td><td>5.7437E7</td><td>5.6452E7</td><td>KRW-BTC</td><td>5.6639E7</td><td>5.6639E7</td><td>1704067199664</td><td>5.7047E7</td></tr></tbody></table></div>"
      ]
     },
     "metadata": {
      "application/vnd.databricks.v1+output": {
       "addedWidgets": {},
       "aggData": [],
       "aggError": "",
       "aggOverflow": false,
       "aggSchema": [],
       "aggSeriesLimitReached": false,
       "aggType": "",
       "arguments": {},
       "columnCustomDisplayInfos": {},
       "data": [
        [
         3.660256480668456E11,
         6254.53768656,
         "2024-01-04T09:00:00",
         "2024-01-04T00:00:00",
         896000.0,
         0.0152950615,
         6.0162E7,
         5.7319E7,
         "KRW-BTC",
         5.8581E7,
         5.8581E7,
         1704412798132,
         5.9477E7
        ],
        [
         9.458411835352499E11,
         16310.30692586,
         "2024-01-03T09:00:00",
         "2024-01-03T00:00:00",
         -1625000.0,
         -0.0269906654,
         6.0799E7,
         5.4346E7,
         "KRW-BTC",
         6.0205E7,
         6.0206E7,
         1704326399884,
         5.8581E7
        ],
        [
         1.8249121791430185E11,
         3165.32092908,
         "2024-01-01T09:00:00",
         "2024-01-01T00:00:00",
         1792000.0,
         0.0314126948,
         5.8847E7,
         5.7045E7,
         "KRW-BTC",
         5.7045E7,
         5.7047E7,
         1704153599562,
         5.8839E7
        ],
        [
         4.950387804637768E11,
         8221.19868374,
         "2024-01-02T09:00:00",
         "2024-01-02T00:00:00",
         1367000.0,
         0.0232328897,
         6.0997E7,
         5.8814E7,
         "KRW-BTC",
         5.8839E7,
         5.8839E7,
         1704239999808,
         6.0206E7
        ],
        [
         1.3151948029509232E11,
         2308.38316024,
         "2023-12-31T09:00:00",
         "2023-12-31T00:00:00",
         408000.0,
         0.007203517,
         5.7437E7,
         5.6452E7,
         "KRW-BTC",
         5.6639E7,
         5.6639E7,
         1704067199664,
         5.7047E7
        ]
       ],
       "datasetInfos": [],
       "dbfsResultPath": null,
       "isJsonSchema": true,
       "metadata": {
        "createTempViewForImplicitDf": true,
        "dataframeName": "_sqldf",
        "executionCount": 1
       },
       "overflow": false,
       "plotOptions": {
        "customPlotOptions": {},
        "displayType": "table",
        "pivotAggregation": null,
        "pivotColumns": null,
        "xColumns": null,
        "yColumns": null
       },
       "removedWidgets": [],
       "schema": [
        {
         "metadata": "{}",
         "name": "candle_acc_trade_price",
         "type": "\"double\""
        },
        {
         "metadata": "{}",
         "name": "candle_acc_trade_volume",
         "type": "\"double\""
        },
        {
         "metadata": "{}",
         "name": "candle_date_time_kst",
         "type": "\"string\""
        },
        {
         "metadata": "{}",
         "name": "candle_date_time_utc",
         "type": "\"string\""
        },
        {
         "metadata": "{}",
         "name": "change_price",
         "type": "\"double\""
        },
        {
         "metadata": "{}",
         "name": "change_rate",
         "type": "\"double\""
        },
        {
         "metadata": "{}",
         "name": "high_price",
         "type": "\"double\""
        },
        {
         "metadata": "{}",
         "name": "low_price",
         "type": "\"double\""
        },
        {
         "metadata": "{}",
         "name": "market",
         "type": "\"string\""
        },
        {
         "metadata": "{}",
         "name": "opening_price",
         "type": "\"double\""
        },
        {
         "metadata": "{}",
         "name": "prev_closing_price",
         "type": "\"double\""
        },
        {
         "metadata": "{}",
         "name": "timestamp",
         "type": "\"long\""
        },
        {
         "metadata": "{}",
         "name": "trade_price",
         "type": "\"double\""
        }
       ],
       "type": "table"
      }
     },
     "output_type": "display_data"
    }
   ],
   "source": [
    "%sql\n",
    "\n",
    "select * from bronze.bronze_krw_btc;"
   ]
  },
  {
   "cell_type": "code",
   "execution_count": 0,
   "metadata": {
    "application/vnd.databricks.v1+cell": {
     "cellMetadata": {},
     "inputWidgets": {},
     "nuid": "cfd6ce89-bd74-4c5b-bb0e-7c51f753b87c",
     "showTitle": false,
     "tableResultSettingsMap": {},
     "title": ""
    }
   },
   "outputs": [],
   "source": [
    "%sql\n",
    "\n",
    "select * from silver.silver_krw_btc;"
   ]
  }
 ],
 "metadata": {
  "application/vnd.databricks.v1+notebook": {
   "computePreferences": null,
   "dashboards": [],
   "environmentMetadata": {
    "base_environment": "",
    "environment_version": "2"
   },
   "inputWidgetPreferences": null,
   "language": "python",
   "notebookMetadata": {
    "mostRecentlyExecutedCommandWithImplicitDF": {
     "commandId": 6809387168329342,
     "dataframes": [
      "_sqldf"
     ]
    },
    "pythonIndentUnit": 4
   },
   "notebookName": "market_table_setup_bronze_silver_gold",
   "widgets": {
    "execution_date": {
     "currentValue": "2024-01-04",
     "nuid": "3a5b2962-a967-4f57-a5b4-914ee9ccfad9",
     "typedWidgetInfo": {
      "autoCreated": false,
      "defaultValue": "2024-01-04",
      "label": null,
      "name": "execution_date",
      "options": {
       "widgetDisplayType": "Text",
       "validationRegex": null
      },
      "parameterDataType": "String"
     },
     "widgetInfo": {
      "widgetType": "text",
      "defaultValue": "2024-01-04",
      "label": null,
      "name": "execution_date",
      "options": {
       "widgetType": "text",
       "autoCreated": false,
       "validationRegex": null
      }
     }
    }
   }
  },
  "language_info": {
   "name": "python"
  }
 },
 "nbformat": 4,
 "nbformat_minor": 0
}